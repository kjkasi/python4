{
 "cells": [
  {
   "cell_type": "code",
   "execution_count": 1,
   "id": "3d14592f",
   "metadata": {},
   "outputs": [],
   "source": [
    "import numpy as np"
   ]
  },
  {
   "cell_type": "markdown",
   "id": "84480d7b",
   "metadata": {},
   "source": [
    "#### Задача 1\n",
    "Создать функцию с аргументами N и M(размеры матрицы) и\n",
    "вывести эту матрицу с 0 внутри и 1 на границах.  \n",
    "* Решить задачу с помощью слайсов.\n",
    "* $*$ Решить задачу двумя способами и оценить время работы алгоритмов на матрице 100_000 x 100_000."
   ]
  },
  {
   "cell_type": "code",
   "execution_count": 2,
   "id": "6e228ed3",
   "metadata": {},
   "outputs": [],
   "source": [
    "M = 100_000; N = 100_000"
   ]
  },
  {
   "cell_type": "code",
   "execution_count": 5,
   "id": "447f07f4",
   "metadata": {},
   "outputs": [],
   "source": [
    "def func_one(m, n):\n",
    "    matrix = np.zeros((m, n), dtype=np.int8)\n",
    "    matrix[:, 0] = matrix[:, -1] = matrix[0] = matrix[-1] = 1\n",
    "    return matrix"
   ]
  },
  {
   "cell_type": "code",
   "execution_count": 6,
   "id": "78955f78",
   "metadata": {},
   "outputs": [
    {
     "name": "stdout",
     "output_type": "stream",
     "text": [
      "166 ms ± 7.03 ms per loop (mean ± std. dev. of 7 runs, 1 loop each)\n"
     ]
    }
   ],
   "source": [
    "%timeit res1 = func_one(M, N)"
   ]
  },
  {
   "cell_type": "code",
   "execution_count": 7,
   "id": "4d693ba5",
   "metadata": {},
   "outputs": [],
   "source": [
    "def func_two(m, n):\n",
    "    matrix = np.ones((m, n), dtype=np.int8)\n",
    "    matrix[1:-1, 1:-1] = 0\n",
    "    return matrix"
   ]
  },
  {
   "cell_type": "code",
   "execution_count": 8,
   "id": "5560303e",
   "metadata": {},
   "outputs": [
    {
     "name": "stdout",
     "output_type": "stream",
     "text": [
      "6.6 s ± 574 ms per loop (mean ± std. dev. of 7 runs, 1 loop each)\n"
     ]
    }
   ],
   "source": [
    "%timeit res2 = func_two(M, N)"
   ]
  },
  {
   "cell_type": "code",
   "execution_count": 9,
   "id": "af692b6e",
   "metadata": {},
   "outputs": [],
   "source": [
    "def func_three(m, n):\n",
    "    matrix = np.zeros((m, n), dtype=np.int8)\n",
    "    matrix[:, [0, -1]] = matrix[[0, -1]] = 1\n",
    "    return matrix"
   ]
  },
  {
   "cell_type": "code",
   "execution_count": 10,
   "id": "f824d491",
   "metadata": {},
   "outputs": [
    {
     "name": "stdout",
     "output_type": "stream",
     "text": [
      "170 ms ± 6.36 ms per loop (mean ± std. dev. of 7 runs, 1 loop each)\n"
     ]
    }
   ],
   "source": [
    "%timeit res3 = func_three(M, N)"
   ]
  },
  {
   "cell_type": "markdown",
   "id": "0e07821e",
   "metadata": {},
   "source": [
    "## Важное дополнение\n",
    "Можно ускорить алгоритмы за счет создания массиво вне функций"
   ]
  },
  {
   "cell_type": "code",
   "execution_count": 12,
   "id": "9c867a82",
   "metadata": {},
   "outputs": [],
   "source": [
    "def func_one_improve(matrix):\n",
    "    matrix[:, 0] = matrix[:, -1] = matrix[0] = matrix[-1] = 1\n",
    "    return matrix"
   ]
  },
  {
   "cell_type": "code",
   "execution_count": 16,
   "id": "bec0e363",
   "metadata": {},
   "outputs": [],
   "source": [
    "arr = np.zeros((M, N), dtype=np.int8)"
   ]
  },
  {
   "cell_type": "code",
   "execution_count": 17,
   "id": "027f25b0",
   "metadata": {},
   "outputs": [
    {
     "name": "stdout",
     "output_type": "stream",
     "text": [
      "12.7 ms ± 486 µs per loop (mean ± std. dev. of 7 runs, 100 loops each)\n"
     ]
    }
   ],
   "source": [
    "%timeit res4 = func_one_improve(arr)"
   ]
  },
  {
   "cell_type": "code",
   "execution_count": 18,
   "id": "51e53359",
   "metadata": {},
   "outputs": [],
   "source": [
    "def func_two_improve(matrix):\n",
    "    matrix[1:-1, 1:-1] = 0\n",
    "    return matrix"
   ]
  },
  {
   "cell_type": "code",
   "execution_count": 20,
   "id": "2d8d0f57",
   "metadata": {},
   "outputs": [],
   "source": [
    "arr_two = np.ones((M, N), dtype=np.int8)"
   ]
  },
  {
   "cell_type": "code",
   "execution_count": 21,
   "id": "139d9c5b",
   "metadata": {},
   "outputs": [
    {
     "name": "stdout",
     "output_type": "stream",
     "text": [
      "1.78 s ± 72.2 ms per loop (mean ± std. dev. of 7 runs, 1 loop each)\n"
     ]
    }
   ],
   "source": [
    "%timeit res5 = func_two_improve(arr_two)"
   ]
  },
  {
   "cell_type": "markdown",
   "id": "69ac5cf3",
   "metadata": {},
   "source": [
    "Как быстро очистить память:"
   ]
  },
  {
   "cell_type": "code",
   "execution_count": 22,
   "id": "ba79ae2f",
   "metadata": {},
   "outputs": [
    {
     "name": "stdout",
     "output_type": "stream",
     "text": [
      "Once deleted, variables cannot be recovered. Proceed (y/[n])? y\n"
     ]
    },
    {
     "data": {
      "text/plain": [
       "0"
      ]
     },
     "execution_count": 22,
     "metadata": {},
     "output_type": "execute_result"
    }
   ],
   "source": [
    "%reset\n",
    "import gc\n",
    "gc.collect()"
   ]
  }
 ],
 "metadata": {
  "kernelspec": {
   "display_name": "Python 3 (ipykernel)",
   "language": "python",
   "name": "python3"
  },
  "language_info": {
   "codemirror_mode": {
    "name": "ipython",
    "version": 3
   },
   "file_extension": ".py",
   "mimetype": "text/x-python",
   "name": "python",
   "nbconvert_exporter": "python",
   "pygments_lexer": "ipython3",
   "version": "3.10.12"
  }
 },
 "nbformat": 4,
 "nbformat_minor": 5
}
