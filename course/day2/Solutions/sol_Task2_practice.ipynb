{
 "cells": [
  {
   "cell_type": "code",
   "execution_count": 2,
   "id": "22838962",
   "metadata": {
    "slideshow": {
     "slide_type": "slide"
    }
   },
   "outputs": [],
   "source": [
    "import numpy as np\n",
    "from IPython.core.interactiveshell import InteractiveShell\n",
    "InteractiveShell.ast_node_interactivity = \"all\"     # Вывод всех строк без принтов\n",
    "# InteractiveShell.ast_node_interactivity = \"last\"  # Только последний вывод"
   ]
  },
  {
   "cell_type": "markdown",
   "id": "6295c95a",
   "metadata": {
    "slideshow": {
     "slide_type": "slide"
    }
   },
   "source": [
    "#### Задача 1\n",
    "\n",
    "Создать массив 10x10 со случайными значениями(int64):\n",
    "- Найти минимум и максимум всего массива\n",
    "- Вывести разницу между max и min для всего массива  \n",
    "- Вывести разницу между max и min для каждой оси  "
   ]
  },
  {
   "cell_type": "code",
   "execution_count": 12,
   "id": "3af5c7c7",
   "metadata": {
    "slideshow": {
     "slide_type": "slide"
    }
   },
   "outputs": [
    {
     "data": {
      "text/plain": [
       "array([[93, 99, 87, 44, 31, 34, 64, 28, 28, 91],\n",
       "       [13,  3, 27, 75, 95, 70, 49, 15, 85, 86],\n",
       "       [20, 14, 15, 11, 43, 63, 16, 64, 47, 43],\n",
       "       [25, 91, 54, 23, 11, 53, 49, 39, 53, 74],\n",
       "       [41, 32, 64,  9, 64,  7,  2, 55, 89, 72],\n",
       "       [91, 96, 29, 48, 24, 62, 48, 48, 23, 76],\n",
       "       [34, 85, 18, 97, 64,  6, 42, 71, 68, 75],\n",
       "       [76, 72,  2, 45, 72, 13, 98, 46, 64, 87],\n",
       "       [44, 87,  7, 67, 32, 69, 77, 45, 86,  1],\n",
       "       [33, 50, 14, 25, 53, 73, 12, 66, 83, 39]])"
      ]
     },
     "execution_count": 12,
     "metadata": {},
     "output_type": "execute_result"
    }
   ],
   "source": [
    "# Создать массив 10x10 со случайными значениями(int64)\n",
    "arr = np.random.randint(1, 100, (10, 10))\n",
    "arr"
   ]
  },
  {
   "cell_type": "code",
   "execution_count": 13,
   "id": "8dfefc4a",
   "metadata": {
    "slideshow": {
     "slide_type": "slide"
    }
   },
   "outputs": [
    {
     "name": "stdout",
     "output_type": "stream",
     "text": [
      "Minimum: 1\n",
      "Maximum: 99\n"
     ]
    }
   ],
   "source": [
    "# Найти минимум и максимум всего массива\n",
    "print('Minimum:', np.min(arr))\n",
    "print('Maximum:', arr.max())"
   ]
  },
  {
   "cell_type": "code",
   "execution_count": 14,
   "id": "516da63a",
   "metadata": {
    "slideshow": {
     "slide_type": "slide"
    }
   },
   "outputs": [
    {
     "data": {
      "text/plain": [
       "98"
      ]
     },
     "execution_count": 14,
     "metadata": {},
     "output_type": "execute_result"
    }
   ],
   "source": [
    "# Вывести разницу между max и min для всего массива\n",
    "np.max(arr) - np.min(arr)"
   ]
  },
  {
   "cell_type": "code",
   "execution_count": 15,
   "id": "99d6cd57",
   "metadata": {
    "slideshow": {
     "slide_type": "slide"
    }
   },
   "outputs": [
    {
     "data": {
      "text/plain": [
       "array([71, 92, 53, 80, 87, 73, 91, 96, 86, 71])"
      ]
     },
     "execution_count": 15,
     "metadata": {},
     "output_type": "execute_result"
    },
    {
     "data": {
      "text/plain": [
       "array([80, 96, 85, 88, 84, 67, 96, 56, 66, 90])"
      ]
     },
     "execution_count": 15,
     "metadata": {},
     "output_type": "execute_result"
    }
   ],
   "source": [
    "# Вывести разницу между max и min для каждой оси\n",
    "# Разница по строкам\n",
    "rows = np.max(arr, axis=1) - np.min(arr, axis=1) \n",
    "rows\n",
    "# Разница по столбцам\n",
    "columns = np.max(arr, axis=0) - np.min(arr, axis=0) \n",
    "columns"
   ]
  },
  {
   "cell_type": "code",
   "execution_count": 18,
   "id": "29815699",
   "metadata": {},
   "outputs": [
    {
     "data": {
      "text/plain": [
       "array([71, 92, 53, 80, 87, 73, 91, 96, 86, 71])"
      ]
     },
     "execution_count": 18,
     "metadata": {},
     "output_type": "execute_result"
    },
    {
     "data": {
      "text/plain": [
       "array([80, 96, 85, 88, 84, 67, 96, 56, 66, 90])"
      ]
     },
     "execution_count": 18,
     "metadata": {},
     "output_type": "execute_result"
    }
   ],
   "source": [
    "# Проверка с помощью функции numpy.ptp(peak-to-peak)\n",
    "rows_by_ptp = np.ptp(arr, axis=1)\n",
    "rows_by_ptp\n",
    "columns_by_ptp = np.ptp(arr, axis=0)\n",
    "columns_by_ptp"
   ]
  }
 ],
 "metadata": {
  "celltoolbar": "Слайд-шоу",
  "kernelspec": {
   "display_name": "Python 3 (ipykernel)",
   "language": "python",
   "name": "python3"
  },
  "language_info": {
   "codemirror_mode": {
    "name": "ipython",
    "version": 3
   },
   "file_extension": ".py",
   "mimetype": "text/x-python",
   "name": "python",
   "nbconvert_exporter": "python",
   "pygments_lexer": "ipython3",
   "version": "3.10.12"
  }
 },
 "nbformat": 4,
 "nbformat_minor": 5
}
