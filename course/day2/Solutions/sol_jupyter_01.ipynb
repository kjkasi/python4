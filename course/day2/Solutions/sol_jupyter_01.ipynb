{
 "cells": [
  {
   "cell_type": "markdown",
   "metadata": {
    "slideshow": {
     "slide_type": "slide"
    }
   },
   "source": [
    "### Практика. Задание 1"
   ]
  },
  {
   "cell_type": "code",
   "execution_count": null,
   "metadata": {
    "scrolled": true,
    "slideshow": {
     "slide_type": "slide"
    }
   },
   "outputs": [],
   "source": [
    "\"\"\"\n",
    "Введено натуральное число.\n",
    "Сложить разряды числа до цифры.\n",
    "\n",
    "\n",
    "Пример 1:\n",
    "In:\n",
    "    number = 1237\n",
    "Out:\n",
    "    result: 4 (1+2+3+7=13 -> 1+3=4)\n",
    "\n",
    "Пример 2:\n",
    "In:\n",
    "    number = 16529\n",
    "Out:\n",
    "    result: 5 (1+6+5+2+9=23 -> 2+3=5)\n",
    "\"\"\"\n"
   ]
  },
  {
   "cell_type": "markdown",
   "metadata": {
    "slideshow": {
     "slide_type": "slide"
    }
   },
   "source": [
    "#### Решение задачи"
   ]
  },
  {
   "cell_type": "code",
   "execution_count": 9,
   "metadata": {
    "slideshow": {
     "slide_type": "slide"
    }
   },
   "outputs": [
    {
     "name": "stdout",
     "output_type": "stream",
     "text": [
      "Enter number> 165299999999999999999999999999999999999999999999999999999999999999999999999999\n",
      "5\n"
     ]
    }
   ],
   "source": [
    "# Variant 1\n",
    "number = input(\"Enter number> \")\n",
    "while (number := sum(map(int, number))) > 9:\n",
    "    number = str(number)\n",
    "print(number)"
   ]
  },
  {
   "cell_type": "code",
   "execution_count": 8,
   "metadata": {
    "slideshow": {
     "slide_type": "slide"
    }
   },
   "outputs": [
    {
     "name": "stdout",
     "output_type": "stream",
     "text": [
      "Введите натуральное число: 165299999999999999999999999999999999999999999999999999999999999999999999999999\n"
     ]
    },
    {
     "data": {
      "text/plain": [
       "5"
      ]
     },
     "execution_count": 8,
     "metadata": {},
     "output_type": "execute_result"
    }
   ],
   "source": [
    "# Variant 2\n",
    "number = int(input(\"Введите натуральное число: \"))\n",
    "accum_sum = 0\n",
    "while number > 9:\n",
    "    accum_sum += number % 10\n",
    "    number = number // 10\n",
    "    if number < 10:\n",
    "        number += accum_sum\n",
    "        accum_sum = 0\n",
    "number"
   ]
  },
  {
   "cell_type": "code",
   "execution_count": 5,
   "metadata": {
    "slideshow": {
     "slide_type": "slide"
    }
   },
   "outputs": [],
   "source": [
    "# Variant 3\n",
    "def summa(number):\n",
    "    sum_number = sum(map(int, str(number)))\n",
    "    if sum_number > 9:\n",
    "        return summa(sum_number)   \n",
    "    return sum_number\n"
   ]
  },
  {
   "cell_type": "code",
   "execution_count": 7,
   "metadata": {},
   "outputs": [
    {
     "name": "stdout",
     "output_type": "stream",
     "text": [
      "number: 165299999999999999999999999999999999999999999999999999999999999999999999999999\n",
      "5\n"
     ]
    }
   ],
   "source": [
    "number = input(\"number: \")\n",
    "print(summa(number))"
   ]
  },
  {
   "cell_type": "code",
   "execution_count": null,
   "metadata": {},
   "outputs": [],
   "source": []
  }
 ],
 "metadata": {
  "celltoolbar": "Слайд-шоу",
  "kernelspec": {
   "display_name": "Python 3 (ipykernel)",
   "language": "python",
   "name": "python3"
  },
  "language_info": {
   "codemirror_mode": {
    "name": "ipython",
    "version": 3
   },
   "file_extension": ".py",
   "mimetype": "text/x-python",
   "name": "python",
   "nbconvert_exporter": "python",
   "pygments_lexer": "ipython3",
   "version": "3.11.6"
  }
 },
 "nbformat": 4,
 "nbformat_minor": 4
}
