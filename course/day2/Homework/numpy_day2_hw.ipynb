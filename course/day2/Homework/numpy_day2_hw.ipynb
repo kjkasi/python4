{
 "cells": [
  {
   "cell_type": "code",
   "execution_count": 2,
   "metadata": {},
   "outputs": [],
   "source": [
    "# 1. Импортировать NumPy\n",
    "import numpy as np"
   ]
  },
  {
   "cell_type": "code",
   "execution_count": null,
   "metadata": {},
   "outputs": [],
   "source": [
    "# 1.1 Создать массив 10 x 10 со случайными значениями от 1 до 100(int64)\n",
    "\n",
    "# 1.2 найти среднее значение всех элементов массива np.mean()\n",
    "\n",
    "# 1.3 найти среднее значение всех элементов для каждой строки   np.mean()\n",
    "# и добавить как новый столбец\n",
    "\n",
    "# 1.4 найти сумму значение всех элементов для каждого столбца   np.sum()\n",
    "# и добавить как новую строку, учитывая результат 1.3"
   ]
  },
  {
   "cell_type": "code",
   "execution_count": null,
   "metadata": {},
   "outputs": [],
   "source": [
    "# 2. Создать матрицу 7x7 с значениями 1,2,3,4,5,6,7 по главной диагонали, остальные нули.\n",
    "#    С помощью функции np.diag() и без(используя broadcasting)"
   ]
  },
  {
   "cell_type": "code",
   "execution_count": null,
   "metadata": {},
   "outputs": [],
   "source": [
    "# 3. Создать случайную матрицу 5x7 целых чисел от 1 до 100 и поменять местами 3 и 5 колонки"
   ]
  }
 ],
 "metadata": {
  "kernelspec": {
   "display_name": "Python 3 (ipykernel)",
   "language": "python",
   "name": "python3"
  },
  "language_info": {
   "codemirror_mode": {
    "name": "ipython",
    "version": 3
   },
   "file_extension": ".py",
   "mimetype": "text/x-python",
   "name": "python",
   "nbconvert_exporter": "python",
   "pygments_lexer": "ipython3",
   "version": "3.10.12"
  }
 },
 "nbformat": 4,
 "nbformat_minor": 4
}
