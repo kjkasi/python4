{
 "cells": [
  {
   "cell_type": "code",
   "execution_count": 3,
   "id": "04556967",
   "metadata": {},
   "outputs": [],
   "source": [
    "import numpy as np\n",
    "import pandas as pd"
   ]
  },
  {
   "cell_type": "code",
   "execution_count": 4,
   "id": "a1422d99",
   "metadata": {},
   "outputs": [],
   "source": [
    "from IPython.core.interactiveshell import InteractiveShell\n",
    "InteractiveShell.ast_node_interactivity = 'all'"
   ]
  },
  {
   "cell_type": "code",
   "execution_count": 6,
   "id": "2f152b9b",
   "metadata": {},
   "outputs": [],
   "source": [
    "from faker import Faker\n",
    "fake = Faker('ru_RU')"
   ]
  },
  {
   "cell_type": "markdown",
   "id": "bc51fc56",
   "metadata": {},
   "source": [
    "## Задание:\n",
    "\n",
    "__Задача №1.__ Создайте объект Series для хранения оценок по какому-либо предмету, например, по \"Линейной Алгебре\".  \n",
    "   Пусть он содержит 10 студентов со случайными оценками от 2 до 5. Фамилии студентов должны быть индексами."
   ]
  },
  {
   "cell_type": "code",
   "execution_count": 14,
   "id": "d949ef11",
   "metadata": {},
   "outputs": [
    {
     "data": {
      "text/plain": [
       "Комиссаров    2\n",
       "Соболева      4\n",
       "Фадеева       5\n",
       "Петрова       5\n",
       "Гуляев        3\n",
       "Сидорова      4\n",
       "Степанов      5\n",
       "Данилова      3\n",
       "Лазарева      2\n",
       "Емельянов     3\n",
       "Name: Линейная Алгебра, dtype: int32"
      ]
     },
     "execution_count": 14,
     "metadata": {},
     "output_type": "execute_result"
    },
    {
     "name": "stdout",
     "output_type": "stream",
     "text": [
      "3.75\n"
     ]
    },
    {
     "data": {
      "text/plain": [
       "Комиссаров    2\n",
       "Соболева      5\n",
       "Фадеева       3\n",
       "Петрова       2\n",
       "Гуляев        5\n",
       "Сидорова      5\n",
       "Степанов      5\n",
       "Данилова      3\n",
       "Лазарева      2\n",
       "Емельянов     4\n",
       "Name: Математическому Анализу, dtype: int32"
      ]
     },
     "execution_count": 14,
     "metadata": {},
     "output_type": "execute_result"
    }
   ],
   "source": [
    "students = [fake.last_name() for _ in range(10)]\n",
    "grades = np.random.randint(2, 6, size=10)\n",
    "linalg = pd.Series(grades, index=students, name=\"Линейная Алгебра\")\n",
    "linalg\n",
    "\n",
    "#Задача №2. Выведите средний балл для всех, у кого оценка больше или равна 3.\n",
    "\n",
    "print (grades_series[grades_series >= 3].mean())\n",
    "\n",
    "##Задача №3. Создайте другой объект Series, для хранения оценок по другому предмету, например по \"Математическому Анализу\".\n",
    "\n",
    "grades_2 = np.random.randint(2, 6, size=10)\n",
    "matan = pd.Series(grades_2, index=students, name=\"Математическому Анализу\")\n",
    "matan"
   ]
  },
  {
   "cell_type": "code",
   "execution_count": 15,
   "id": "188b2ff0",
   "metadata": {},
   "outputs": [
    {
     "data": {
      "text/plain": [
       "Комиссаров    2.0\n",
       "Соболева      4.5\n",
       "Фадеева       4.0\n",
       "Петрова       3.5\n",
       "Гуляев        4.0\n",
       "Сидорова      4.5\n",
       "Степанов      5.0\n",
       "Данилова      3.0\n",
       "Лазарева      2.0\n",
       "Емельянов     3.5\n",
       "dtype: float64"
      ]
     },
     "execution_count": 15,
     "metadata": {},
     "output_type": "execute_result"
    }
   ],
   "source": [
    "# Посчитайте средний балл для каждого студента по этим двум предметам.\n",
    "mean = (linalg + matan) / 2\n",
    "mean"
   ]
  },
  {
   "cell_type": "code",
   "execution_count": null,
   "id": "eeaba76e",
   "metadata": {},
   "outputs": [],
   "source": []
  }
 ],
 "metadata": {
  "kernelspec": {
   "display_name": "Python 3 (ipykernel)",
   "language": "python",
   "name": "python3"
  },
  "language_info": {
   "codemirror_mode": {
    "name": "ipython",
    "version": 3
   },
   "file_extension": ".py",
   "mimetype": "text/x-python",
   "name": "python",
   "nbconvert_exporter": "python",
   "pygments_lexer": "ipython3",
   "version": "3.10.12"
  }
 },
 "nbformat": 4,
 "nbformat_minor": 5
}
