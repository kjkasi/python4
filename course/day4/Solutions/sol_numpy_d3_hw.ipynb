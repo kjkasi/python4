{
 "cells": [
  {
   "cell_type": "code",
   "execution_count": 2,
   "metadata": {},
   "outputs": [],
   "source": [
    "import numpy as np\n",
    "import pandas as pd"
   ]
  },
  {
   "cell_type": "code",
   "execution_count": 3,
   "metadata": {},
   "outputs": [],
   "source": [
    "from IPython.core.interactiveshell import InteractiveShell\n",
    "InteractiveShell.ast_node_interactivity = \"all\""
   ]
  },
  {
   "cell_type": "markdown",
   "metadata": {},
   "source": [
    "__Задача №1__\n",
    "\n",
    "Напишите функцию, которая находит сумму четных элементов на главной \n",
    "диагонали квадратной матрицы (именно чётных элементов, а не элементов на чётных позициях!). \n",
    "Если чётных элементов нет, то вывести 0"
   ]
  },
  {
   "cell_type": "code",
   "execution_count": 4,
   "metadata": {},
   "outputs": [],
   "source": [
    "def diag_sum_2k(array):\n",
    "    diagonal = np.diagonal(array) \n",
    "    return np.sum(diagonal[(diagonal % 2 == 0)]) "
   ]
  },
  {
   "cell_type": "code",
   "execution_count": 8,
   "metadata": {},
   "outputs": [
    {
     "data": {
      "text/plain": [
       "array([[81, 31, 98, 97, 47],\n",
       "       [17, 11, 26,  4, 42],\n",
       "       [52, 56, 27, 55, 94],\n",
       "       [ 6, 91, 80, 30, 72],\n",
       "       [32, 43, 70, 87, 70]])"
      ]
     },
     "execution_count": 8,
     "metadata": {},
     "output_type": "execute_result"
    },
    {
     "data": {
      "text/plain": [
       "100"
      ]
     },
     "execution_count": 8,
     "metadata": {},
     "output_type": "execute_result"
    }
   ],
   "source": [
    "# Ваш код\n",
    "matrix_a = np.random.randint(1, 100, (5, 5))\n",
    "matrix_a\n",
    "diag_sum_2k(matrix_a)"
   ]
  },
  {
   "cell_type": "markdown",
   "metadata": {},
   "source": [
    "__Задача №2__\n",
    "\n",
    "Решить задачи при условии, что массив может быть любой размерности:\n",
    "\n",
    "2.1 Заменить максимальный элемент массива на 1000. (Повторяющихся максимальных элементов нет. Нужно создать такой 2d массив.)    \n",
    "2.2 Заменить минимальный элемент массива на 0. (Повторяющиеся минимальные элементы есть, поэтому нужно заменить все)"
   ]
  },
  {
   "cell_type": "code",
   "execution_count": 54,
   "metadata": {},
   "outputs": [
    {
     "name": "stdout",
     "output_type": "stream",
     "text": [
      "[ 9 13  4  1  2 12 10 14  9  8]\n"
     ]
    },
    {
     "data": {
      "text/plain": [
       "(array([ 1,  2,  4,  8,  9, 10, 12, 13, 14]),\n",
       " array([1, 1, 1, 1, 2, 1, 1, 1, 1], dtype=int64))"
      ]
     },
     "execution_count": 54,
     "metadata": {},
     "output_type": "execute_result"
    }
   ],
   "source": [
    "mas = np.random.randint(1, 15, 10)\n",
    "print(mas)\n",
    "np.unique(mas, return_counts=True)"
   ]
  },
  {
   "cell_type": "code",
   "execution_count": 9,
   "metadata": {},
   "outputs": [
    {
     "data": {
      "text/plain": [
       "array([[183, 213, 118,  66, 135],\n",
       "       [110, 129,  62,   4, 295],\n",
       "       [152, 111, 264, 282, 208],\n",
       "       [ 54, 167, 288, 292, 179],\n",
       "       [  2, 254,  79, 250, 113]])"
      ]
     },
     "execution_count": 9,
     "metadata": {},
     "output_type": "execute_result"
    },
    {
     "name": "stdout",
     "output_type": "stream",
     "text": [
      "После изменений: \n",
      " [[ 183  213  118   66  135]\n",
      " [ 110  129   62    4 1000]\n",
      " [ 152  111  264  282  208]\n",
      " [  54  167  288  292  179]\n",
      " [   2  254   79  250  113]]\n"
     ]
    }
   ],
   "source": [
    "# Решить задачи при условии, что массив может быть любой размерности:\n",
    "# 2.1 Заменить максимальный элемент массива на 1000. \n",
    "# (Повторяющихся максимальных элементов нет. Нужно создать такой 2d массив.) \n",
    "# Variant 1\n",
    "arr2_1 = np.random.choice(np.arange(300), (5, 5), replace=False)\n",
    "arr2_1\n",
    "idx = np.argmax(arr2_1)\n",
    "arr2_1[np.unravel_index(idx, arr2_1.shape)] = 1000\n",
    "print('После изменений: \\n', arr2_1)"
   ]
  },
  {
   "cell_type": "code",
   "execution_count": 11,
   "metadata": {},
   "outputs": [
    {
     "data": {
      "text/plain": [
       "array([[209,  43, 268, 232, 223],\n",
       "       [297, 144, 135,  58, 204],\n",
       "       [  0, 205, 101,   6, 190],\n",
       "       [202, 245, 214, 172,  83],\n",
       "       [262,  49, 218,  18, 227]])"
      ]
     },
     "execution_count": 11,
     "metadata": {},
     "output_type": "execute_result"
    },
    {
     "name": "stdout",
     "output_type": "stream",
     "text": [
      "После изменений: \n",
      " [[ 209   43  268  232  223]\n",
      " [1000  144  135   58  204]\n",
      " [   0  205  101    6  190]\n",
      " [ 202  245  214  172   83]\n",
      " [ 262   49  218   18  227]]\n"
     ]
    }
   ],
   "source": [
    "# Variant 2\n",
    "arr2_1 = np.random.choice(np.arange(300), (5, 5), replace=False)\n",
    "arr2_1\n",
    "idx = np.argmax(arr2_1)\n",
    "arr2_1.put(idx, 1000)\n",
    "print('После изменений: \\n', arr2_1)"
   ]
  },
  {
   "cell_type": "code",
   "execution_count": 13,
   "metadata": {},
   "outputs": [
    {
     "data": {
      "text/plain": [
       "array([[14, 10, 13, 13,  6,  8],\n",
       "       [ 4,  3,  6, 12, 10,  4],\n",
       "       [13, 12,  6,  8,  8, 13],\n",
       "       [ 9, 14, 10,  9,  3,  4],\n",
       "       [ 1,  8,  7,  4, 14,  8],\n",
       "       [13,  8,  1,  5,  9,  4]])"
      ]
     },
     "execution_count": 13,
     "metadata": {},
     "output_type": "execute_result"
    },
    {
     "data": {
      "text/plain": [
       "array([[14, 10, 13, 13,  6,  8],\n",
       "       [ 4,  3,  6, 12, 10,  4],\n",
       "       [13, 12,  6,  8,  8, 13],\n",
       "       [ 9, 14, 10,  9,  3,  4],\n",
       "       [ 0,  8,  7,  4, 14,  8],\n",
       "       [13,  8,  0,  5,  9,  4]])"
      ]
     },
     "execution_count": 13,
     "metadata": {},
     "output_type": "execute_result"
    }
   ],
   "source": [
    "# 2.2 Заменить минимальный элемент массива на 0.\n",
    "# (Повторяющиеся минимальные элементы есть, поэтому нужно заменить все)\n",
    "mas = np.random.randint(1, 15, (6, 6), dtype=np.int32)\n",
    "mas\n",
    "mas[mas == np.min(mas)] = 0\n",
    "mas \n"
   ]
  },
  {
   "cell_type": "markdown",
   "metadata": {},
   "source": [
    "__Задача №3*__  \n",
    "\n",
    "С помощью numpy написать функцию для кодирования массива (Run-length encoding). \n",
    "Все подряд повторения элементов функция сжимает в один элемент и \n",
    "считает количество повторений. \n",
    "Функция возвращает кортеж из двух `numpy`-векторов одинаковой длины. \n",
    "Первый содержит элементы, а второй — сколько раз их нужно повторить.\n",
    "\n",
    "Пример: \n",
    "```\n",
    "In[1]: encode(np.array([1, 2, 2, 3, 3, 1, 1, 5, 5, 2, 3, 3])) \n",
    "Out[1]: (np.array([1, 2, 3, 1, 5, 2, 3]), np.array([1, 2, 2, 2, 2, 1, 2]))\n",
    "```"
   ]
  },
  {
   "cell_type": "code",
   "execution_count": 68,
   "metadata": {},
   "outputs": [],
   "source": [
    "from functools import reduce\n",
    "from random import randint as rndi\n",
    "from itertools import groupby"
   ]
  },
  {
   "cell_type": "code",
   "execution_count": 69,
   "metadata": {},
   "outputs": [],
   "source": [
    "def groupby_encode(a):\n",
    "    return [x for x, y in groupby(a)], [len(list(y)) for x, y in groupby(a)]"
   ]
  },
  {
   "cell_type": "code",
   "execution_count": 70,
   "metadata": {},
   "outputs": [
    {
     "data": {
      "text/plain": [
       "[(1, [1]),\n",
       " (2, [2, 2]),\n",
       " (3, [3, 3]),\n",
       " (1, [1, 1]),\n",
       " (5, [5, 5]),\n",
       " (2, [2]),\n",
       " (3, [3, 3])]"
      ]
     },
     "execution_count": 70,
     "metadata": {},
     "output_type": "execute_result"
    }
   ],
   "source": [
    "[(x , list(y)) for x, y in groupby(arr)]"
   ]
  },
  {
   "cell_type": "code",
   "execution_count": 71,
   "metadata": {},
   "outputs": [
    {
     "data": {
      "text/plain": [
       "([1, 2, 3, 1, 5, 2, 3], [1, 2, 2, 2, 2, 1, 2])"
      ]
     },
     "execution_count": 71,
     "metadata": {},
     "output_type": "execute_result"
    }
   ],
   "source": [
    "groupby_encode(arr)"
   ]
  },
  {
   "cell_type": "code",
   "execution_count": 89,
   "metadata": {},
   "outputs": [],
   "source": [
    "GROUPS = 10_000\n",
    "encode = tuple(reduce(lambda x, y: x + y, [[rndi(1, 10)] * rndi(1, 10) for _ in range(GROUPS)], []))"
   ]
  },
  {
   "cell_type": "code",
   "execution_count": 92,
   "metadata": {},
   "outputs": [
    {
     "name": "stdout",
     "output_type": "stream",
     "text": [
      "6.64 ms ± 220 µs per loop (mean ± std. dev. of 7 runs, 100 loops each)\n"
     ]
    }
   ],
   "source": [
    "%timeit res2 = groupby_encode(encode)"
   ]
  },
  {
   "cell_type": "code",
   "execution_count": 98,
   "metadata": {},
   "outputs": [],
   "source": [
    "# Решение на numpy\n",
    "def encode_two(a):\n",
    "    # На эту операцию мы тратим много времени\n",
    "    # a = np.asarray(a)\n",
    "    # на i-м месте указано, отличается ли a[i] от a[i+1]\n",
    "    v = np.hstack(((a[:-1] != a[1:]), True))  \n",
    "    # вывели индексы элементов, которые стоят на границах групп из одинаковых идущих подряд чисел\n",
    "    z = np.nonzero(np.hstack((True, v)))      \n",
    "    # diff выводит приращение между номерами, указанными в z\n",
    "    return a[v], np.diff(z)[0] "
   ]
  },
  {
   "cell_type": "code",
   "execution_count": 95,
   "metadata": {},
   "outputs": [
    {
     "name": "stdout",
     "output_type": "stream",
     "text": [
      "4.85 ms ± 164 µs per loop (mean ± std. dev. of 7 runs, 100 loops each)\n"
     ]
    }
   ],
   "source": [
    "%timeit res3 = encode_two(encode)"
   ]
  },
  {
   "cell_type": "code",
   "execution_count": 99,
   "metadata": {},
   "outputs": [],
   "source": [
    "array_encode = np.array(encode)"
   ]
  },
  {
   "cell_type": "code",
   "execution_count": 124,
   "metadata": {},
   "outputs": [
    {
     "name": "stdout",
     "output_type": "stream",
     "text": [
      "415 µs ± 12.9 µs per loop (mean ± std. dev. of 7 runs, 1,000 loops each)\n"
     ]
    }
   ],
   "source": [
    "%timeit res4 = encode_two(array_encode)"
   ]
  },
  {
   "cell_type": "code",
   "execution_count": 107,
   "metadata": {},
   "outputs": [],
   "source": [
    "def run_length_encoding(arr):\n",
    "    dif = np.array([1])\n",
    "    dif = np.insert(dif, 1, np.diff(arr))\n",
    "    \n",
    "    numbers = arr[np.nonzero(dif)]\n",
    "\n",
    "    dif = np.append(dif, 1)\n",
    "\n",
    "    quantity = np.diff(np.nonzero(dif))\n",
    "    return (numbers, quantity)"
   ]
  },
  {
   "cell_type": "code",
   "execution_count": 123,
   "metadata": {},
   "outputs": [
    {
     "name": "stdout",
     "output_type": "stream",
     "text": [
      "420 µs ± 20.4 µs per loop (mean ± std. dev. of 7 runs, 1,000 loops each)\n"
     ]
    }
   ],
   "source": [
    "%timeit res5 = encode_two(array_encode)"
   ]
  },
  {
   "cell_type": "code",
   "execution_count": 122,
   "metadata": {},
   "outputs": [
    {
     "data": {
      "text/plain": [
       "(True, True)"
      ]
     },
     "execution_count": 122,
     "metadata": {},
     "output_type": "execute_result"
    }
   ],
   "source": [
    "all(res5[0] == res4[0]), all(res5[1] == res4[1])"
   ]
  },
  {
   "cell_type": "code",
   "execution_count": 116,
   "metadata": {},
   "outputs": [
    {
     "data": {
      "text/plain": [
       "array([1, 2, 2, 3, 3, 1, 1, 5, 5, 2, 3, 3])"
      ]
     },
     "execution_count": 116,
     "metadata": {},
     "output_type": "execute_result"
    }
   ],
   "source": [
    "arr"
   ]
  },
  {
   "cell_type": "code",
   "execution_count": null,
   "metadata": {},
   "outputs": [],
   "source": []
  }
 ],
 "metadata": {
  "kernelspec": {
   "display_name": "Python 3 (ipykernel)",
   "language": "python",
   "name": "python3"
  },
  "language_info": {
   "codemirror_mode": {
    "name": "ipython",
    "version": 3
   },
   "file_extension": ".py",
   "mimetype": "text/x-python",
   "name": "python",
   "nbconvert_exporter": "python",
   "pygments_lexer": "ipython3",
   "version": "3.10.12"
  }
 },
 "nbformat": 4,
 "nbformat_minor": 4
}
