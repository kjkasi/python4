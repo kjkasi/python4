{
 "cells": [
  {
   "cell_type": "markdown",
   "metadata": {
    "slideshow": {
     "slide_type": "slide"
    }
   },
   "source": [
    "#### Скорость выполнения в pandas"
   ]
  },
  {
   "cell_type": "code",
   "execution_count": 1,
   "metadata": {
    "slideshow": {
     "slide_type": "slide"
    }
   },
   "outputs": [],
   "source": [
    "import pandas as pd\n",
    "import numpy as np"
   ]
  },
  {
   "cell_type": "code",
   "execution_count": 2,
   "metadata": {
    "slideshow": {
     "slide_type": "slide"
    }
   },
   "outputs": [
    {
     "data": {
      "text/html": [
       "<div>\n",
       "<style scoped>\n",
       "    .dataframe tbody tr th:only-of-type {\n",
       "        vertical-align: middle;\n",
       "    }\n",
       "\n",
       "    .dataframe tbody tr th {\n",
       "        vertical-align: top;\n",
       "    }\n",
       "\n",
       "    .dataframe thead th {\n",
       "        text-align: right;\n",
       "    }\n",
       "</style>\n",
       "<table border=\"1\" class=\"dataframe\">\n",
       "  <thead>\n",
       "    <tr style=\"text-align: right;\">\n",
       "      <th></th>\n",
       "      <th>Индекс</th>\n",
       "      <th>Тип региона</th>\n",
       "      <th>Регион</th>\n",
       "      <th>Тип района</th>\n",
       "      <th>Район</th>\n",
       "      <th>Тип города</th>\n",
       "      <th>Город</th>\n",
       "      <th>Тип н/п</th>\n",
       "      <th>Н/п</th>\n",
       "      <th>Код КЛАДР</th>\n",
       "      <th>...</th>\n",
       "      <th>Уровень по ФИАС</th>\n",
       "      <th>Признак центра района или региона</th>\n",
       "      <th>Код ОКАТО</th>\n",
       "      <th>Код ОКТМО</th>\n",
       "      <th>Код ИФНС</th>\n",
       "      <th>Часовой пояс</th>\n",
       "      <th>Широта</th>\n",
       "      <th>Долгота</th>\n",
       "      <th>Федеральный округ</th>\n",
       "      <th>Население</th>\n",
       "    </tr>\n",
       "  </thead>\n",
       "  <tbody>\n",
       "    <tr>\n",
       "      <th>0</th>\n",
       "      <td>385200.0</td>\n",
       "      <td>Респ</td>\n",
       "      <td>Адыгея</td>\n",
       "      <td>NaN</td>\n",
       "      <td>NaN</td>\n",
       "      <td>г</td>\n",
       "      <td>Адыгейск</td>\n",
       "      <td>NaN</td>\n",
       "      <td>NaN</td>\n",
       "      <td>100000200000</td>\n",
       "      <td>...</td>\n",
       "      <td>4: город</td>\n",
       "      <td>0</td>\n",
       "      <td>79403000000</td>\n",
       "      <td>7.970300e+10</td>\n",
       "      <td>107</td>\n",
       "      <td>UTC+3</td>\n",
       "      <td>44.878372</td>\n",
       "      <td>39.190172</td>\n",
       "      <td>Южный</td>\n",
       "      <td>12689</td>\n",
       "    </tr>\n",
       "    <tr>\n",
       "      <th>1</th>\n",
       "      <td>385000.0</td>\n",
       "      <td>Респ</td>\n",
       "      <td>Адыгея</td>\n",
       "      <td>NaN</td>\n",
       "      <td>NaN</td>\n",
       "      <td>г</td>\n",
       "      <td>Майкоп</td>\n",
       "      <td>NaN</td>\n",
       "      <td>NaN</td>\n",
       "      <td>100000100000</td>\n",
       "      <td>...</td>\n",
       "      <td>4: город</td>\n",
       "      <td>2</td>\n",
       "      <td>79401000000</td>\n",
       "      <td>7.970100e+10</td>\n",
       "      <td>105</td>\n",
       "      <td>UTC+3</td>\n",
       "      <td>44.609827</td>\n",
       "      <td>40.100653</td>\n",
       "      <td>Южный</td>\n",
       "      <td>144055</td>\n",
       "    </tr>\n",
       "    <tr>\n",
       "      <th>2</th>\n",
       "      <td>649000.0</td>\n",
       "      <td>Респ</td>\n",
       "      <td>Алтай</td>\n",
       "      <td>NaN</td>\n",
       "      <td>NaN</td>\n",
       "      <td>г</td>\n",
       "      <td>Горно-Алтайск</td>\n",
       "      <td>NaN</td>\n",
       "      <td>NaN</td>\n",
       "      <td>400000100000</td>\n",
       "      <td>...</td>\n",
       "      <td>4: город</td>\n",
       "      <td>2</td>\n",
       "      <td>84401000000</td>\n",
       "      <td>8.470100e+07</td>\n",
       "      <td>400</td>\n",
       "      <td>UTC+7</td>\n",
       "      <td>51.958268</td>\n",
       "      <td>85.960296</td>\n",
       "      <td>Сибирский</td>\n",
       "      <td>62861</td>\n",
       "    </tr>\n",
       "    <tr>\n",
       "      <th>3</th>\n",
       "      <td>658125.0</td>\n",
       "      <td>край</td>\n",
       "      <td>Алтайский</td>\n",
       "      <td>NaN</td>\n",
       "      <td>NaN</td>\n",
       "      <td>г</td>\n",
       "      <td>Алейск</td>\n",
       "      <td>NaN</td>\n",
       "      <td>NaN</td>\n",
       "      <td>2200000200000</td>\n",
       "      <td>...</td>\n",
       "      <td>4: город</td>\n",
       "      <td>0</td>\n",
       "      <td>1403000000</td>\n",
       "      <td>1.703000e+06</td>\n",
       "      <td>2201</td>\n",
       "      <td>UTC+7</td>\n",
       "      <td>52.492091</td>\n",
       "      <td>82.779415</td>\n",
       "      <td>Сибирский</td>\n",
       "      <td>28528</td>\n",
       "    </tr>\n",
       "    <tr>\n",
       "      <th>4</th>\n",
       "      <td>656000.0</td>\n",
       "      <td>край</td>\n",
       "      <td>Алтайский</td>\n",
       "      <td>NaN</td>\n",
       "      <td>NaN</td>\n",
       "      <td>г</td>\n",
       "      <td>Барнаул</td>\n",
       "      <td>NaN</td>\n",
       "      <td>NaN</td>\n",
       "      <td>2200000100000</td>\n",
       "      <td>...</td>\n",
       "      <td>4: город</td>\n",
       "      <td>2</td>\n",
       "      <td>1401000000</td>\n",
       "      <td>1.701000e+06</td>\n",
       "      <td>2200</td>\n",
       "      <td>UTC+7</td>\n",
       "      <td>53.348115</td>\n",
       "      <td>83.779836</td>\n",
       "      <td>Сибирский</td>\n",
       "      <td>635585</td>\n",
       "    </tr>\n",
       "  </tbody>\n",
       "</table>\n",
       "<p>5 rows × 21 columns</p>\n",
       "</div>"
      ],
      "text/plain": [
       "     Индекс Тип региона     Регион Тип района Район Тип города          Город  \\\n",
       "0  385200.0        Респ     Адыгея        NaN   NaN          г       Адыгейск   \n",
       "1  385000.0        Респ     Адыгея        NaN   NaN          г         Майкоп   \n",
       "2  649000.0        Респ      Алтай        NaN   NaN          г  Горно-Алтайск   \n",
       "3  658125.0        край  Алтайский        NaN   NaN          г         Алейск   \n",
       "4  656000.0        край  Алтайский        NaN   NaN          г        Барнаул   \n",
       "\n",
       "  Тип н/п  Н/п      Код КЛАДР  ... Уровень по ФИАС  \\\n",
       "0     NaN  NaN   100000200000  ...        4: город   \n",
       "1     NaN  NaN   100000100000  ...        4: город   \n",
       "2     NaN  NaN   400000100000  ...        4: город   \n",
       "3     NaN  NaN  2200000200000  ...        4: город   \n",
       "4     NaN  NaN  2200000100000  ...        4: город   \n",
       "\n",
       "  Признак центра района или региона    Код ОКАТО     Код ОКТМО  Код ИФНС  \\\n",
       "0                                 0  79403000000  7.970300e+10       107   \n",
       "1                                 2  79401000000  7.970100e+10       105   \n",
       "2                                 2  84401000000  8.470100e+07       400   \n",
       "3                                 0   1403000000  1.703000e+06      2201   \n",
       "4                                 2   1401000000  1.701000e+06      2200   \n",
       "\n",
       "   Часовой пояс     Широта    Долгота  Федеральный округ Население  \n",
       "0         UTC+3  44.878372  39.190172              Южный     12689  \n",
       "1         UTC+3  44.609827  40.100653              Южный    144055  \n",
       "2         UTC+7  51.958268  85.960296          Сибирский     62861  \n",
       "3         UTC+7  52.492091  82.779415          Сибирский     28528  \n",
       "4         UTC+7  53.348115  83.779836          Сибирский    635585  \n",
       "\n",
       "[5 rows x 21 columns]"
      ]
     },
     "execution_count": 2,
     "metadata": {},
     "output_type": "execute_result"
    }
   ],
   "source": [
    "df = pd.read_csv('data/cities.csv')\n",
    "df.head()"
   ]
  },
  {
   "cell_type": "code",
   "execution_count": 3,
   "metadata": {
    "slideshow": {
     "slide_type": "slide"
    }
   },
   "outputs": [
    {
     "data": {
      "text/plain": [
       "Федеральный округ\n",
       "Центральный          303\n",
       "Приволжский          199\n",
       "Северо-Западный      146\n",
       "Сибирский            130\n",
       "Уральский            115\n",
       "Южный                 97\n",
       "Дальневосточный       66\n",
       "Северо-Кавказский     56\n",
       "Name: count, dtype: int64"
      ]
     },
     "execution_count": 3,
     "metadata": {},
     "output_type": "execute_result"
    }
   ],
   "source": [
    "df[\"Федеральный округ\"].value_counts()"
   ]
  },
  {
   "cell_type": "code",
   "execution_count": 4,
   "metadata": {
    "slideshow": {
     "slide_type": "slide"
    }
   },
   "outputs": [
    {
     "data": {
      "text/plain": [
       "Индекс                               1108\n",
       "Тип региона                          1112\n",
       "Регион                               1112\n",
       "Тип района                            629\n",
       "Район                                 629\n",
       "Тип города                           1108\n",
       "Город                                1108\n",
       "Тип н/п                                 2\n",
       "Н/п                                     2\n",
       "Код КЛАДР                            1112\n",
       "Код ФИАС                             1112\n",
       "Уровень по ФИАС                      1112\n",
       "Признак центра района или региона    1112\n",
       "Код ОКАТО                            1112\n",
       "Код ОКТМО                            1110\n",
       "Код ИФНС                             1112\n",
       "Часовой пояс                         1112\n",
       "Широта                               1112\n",
       "Долгота                              1112\n",
       "Федеральный округ                    1112\n",
       "Население                            1112\n",
       "dtype: int64"
      ]
     },
     "execution_count": 4,
     "metadata": {},
     "output_type": "execute_result"
    }
   ],
   "source": [
    "df.count()"
   ]
  },
  {
   "attachments": {
    "formula.png": {
     "image/png": "[encoded data removed]"
    }
   },
   "cell_type": "markdown",
   "metadata": {
    "slideshow": {
     "slide_type": "slide"
    }
   },
   "source": [
    "![formula.png](attachment:formula.png)"
   ]
  },
  {
   "cell_type": "code",
   "execution_count": 5,
   "metadata": {
    "slideshow": {
     "slide_type": "slide"
    }
   },
   "outputs": [],
   "source": [
    "# пишем функцию, которая вычисляет формулу гаверсинусов\n",
    "def haversine(lat1, lon1, lat2, lon2):\n",
    "    RADIUS = 6371.2\n",
    "    lat1, lon1, lat2, lon2 = map(np.deg2rad, [lat1, lon1, lat2, lon2])\n",
    "    dlat = lat2 - lat1\n",
    "    dlon = lon2 - lon1\n",
    "    a = np.sin(dlat / 2) ** 2 + np.cos(lat1) * np.cos(lat2) * np.sin(dlon / 2) ** 2\n",
    "    c = 2 * np.arcsin(np.sqrt(a))\n",
    "    total_km = RADIUS * c\n",
    "    return total_km"
   ]
  },
  {
   "cell_type": "markdown",
   "metadata": {
    "slideshow": {
     "slide_type": "slide"
    }
   },
   "source": [
    "####  Координаты Москвы - 55.7522, 37.6156"
   ]
  },
  {
   "cell_type": "code",
   "execution_count": 6,
   "metadata": {
    "slideshow": {
     "slide_type": "slide"
    }
   },
   "outputs": [],
   "source": [
    "# задаем функцию, которая просто перебирает все строки\n",
    "# и возвращает серию с расстояниями, вычисленными по формуле гаверсинусов\n",
    "\n",
    "def haversine_looping(df):\n",
    "    distance_list = []\n",
    "    for i in range(len(df)):\n",
    "        d = haversine(55.7522, 37.6156, df.iloc[i]['Широта'], df.iloc[i]['Долгота'])\n",
    "        distance_list.append(d)\n",
    "    return distance_list"
   ]
  },
  {
   "cell_type": "code",
   "execution_count": 7,
   "metadata": {
    "slideshow": {
     "slide_type": "slide"
    }
   },
   "outputs": [
    {
     "name": "stdout",
     "output_type": "stream",
     "text": [
      "354 ms ± 11.3 ms per loop (mean ± std. dev. of 7 runs, 1 loop each)\n"
     ]
    }
   ],
   "source": [
    "%%timeit\n",
    "\n",
    "# запускаем итеративную функцию haversine\n",
    "df['Расстояние'] = haversine_looping(df) "
   ]
  },
  {
   "cell_type": "code",
   "execution_count": 8,
   "metadata": {
    "slideshow": {
     "slide_type": "slide"
    }
   },
   "outputs": [
    {
     "name": "stdout",
     "output_type": "stream",
     "text": [
      "163 ms ± 1.95 ms per loop (mean ± std. dev. of 7 runs, 10 loops each)\n"
     ]
    }
   ],
   "source": [
    "%%timeit\n",
    "\n",
    "# запускаем итерирование с помощью метода .iterrrows()\n",
    "haversine_series = []\n",
    "for index, row in df.iterrows():\n",
    "    haversine_series.append(haversine(55.7522, 37.6156, row['Широта'], row['Долгота']))\n",
    "df['Расстояние'] = haversine_series"
   ]
  },
  {
   "cell_type": "code",
   "execution_count": 9,
   "metadata": {
    "slideshow": {
     "slide_type": "slide"
    }
   },
   "outputs": [
    {
     "name": "stdout",
     "output_type": "stream",
     "text": [
      "54.9 ms ± 718 µs per loop (mean ± std. dev. of 7 runs, 10 loops each)\n"
     ]
    }
   ],
   "source": [
    "%%timeit\n",
    "\n",
    "# применяем функцию haversine с помощью метода .apply()\n",
    "df['Расстояние'] = df.apply(lambda row: haversine(55.7522, 37.6156, row['Широта'], row['Долгота']), axis=1)"
   ]
  },
  {
   "cell_type": "code",
   "execution_count": 10,
   "metadata": {
    "slideshow": {
     "slide_type": "slide"
    }
   },
   "outputs": [
    {
     "name": "stdout",
     "output_type": "stream",
     "text": [
      "2.96 ms ± 82.8 µs per loop (mean ± std. dev. of 7 runs, 100 loops each)\n"
     ]
    }
   ],
   "source": [
    "%%timeit\n",
    "\n",
    "# векторизированная реализация функции haversine, используем объекты Series целиком\n",
    "df['Расстояние'] = haversine(55.7522, 37.6156, df['Широта'], df['Долгота'])"
   ]
  },
  {
   "cell_type": "code",
   "execution_count": 11,
   "metadata": {
    "slideshow": {
     "slide_type": "slide"
    }
   },
   "outputs": [
    {
     "name": "stdout",
     "output_type": "stream",
     "text": [
      "356 µs ± 9.29 µs per loop (mean ± std. dev. of 7 runs, 1,000 loops each)\n"
     ]
    }
   ],
   "source": [
    "%%timeit\n",
    "\n",
    "# векторизированная реализация функции haversine,\n",
    "# используем вместо объектов Series массивы NumPy\n",
    "df['Расстояние'] = haversine(55.7522, 37.6156, df['Широта'].values, df['Долгота'].values)"
   ]
  },
  {
   "cell_type": "code",
   "execution_count": 12,
   "metadata": {
    "slideshow": {
     "slide_type": "slide"
    }
   },
   "outputs": [],
   "source": [
    "df['Расстояние'] = df['Расстояние'].round(2)"
   ]
  },
  {
   "cell_type": "code",
   "execution_count": 13,
   "metadata": {
    "slideshow": {
     "slide_type": "slide"
    }
   },
   "outputs": [
    {
     "data": {
      "text/html": [
       "<div>\n",
       "<style scoped>\n",
       "    .dataframe tbody tr th:only-of-type {\n",
       "        vertical-align: middle;\n",
       "    }\n",
       "\n",
       "    .dataframe tbody tr th {\n",
       "        vertical-align: top;\n",
       "    }\n",
       "\n",
       "    .dataframe thead th {\n",
       "        text-align: right;\n",
       "    }\n",
       "</style>\n",
       "<table border=\"1\" class=\"dataframe\">\n",
       "  <thead>\n",
       "    <tr style=\"text-align: right;\">\n",
       "      <th></th>\n",
       "      <th>Город</th>\n",
       "      <th>Расстояние</th>\n",
       "    </tr>\n",
       "  </thead>\n",
       "  <tbody>\n",
       "    <tr>\n",
       "      <th>0</th>\n",
       "      <td>Адыгейск</td>\n",
       "      <td>1214.23</td>\n",
       "    </tr>\n",
       "    <tr>\n",
       "      <th>1</th>\n",
       "      <td>Майкоп</td>\n",
       "      <td>1251.38</td>\n",
       "    </tr>\n",
       "    <tr>\n",
       "      <th>2</th>\n",
       "      <td>Горно-Алтайск</td>\n",
       "      <td>3133.04</td>\n",
       "    </tr>\n",
       "    <tr>\n",
       "      <th>3</th>\n",
       "      <td>Алейск</td>\n",
       "      <td>2912.42</td>\n",
       "    </tr>\n",
       "    <tr>\n",
       "      <th>4</th>\n",
       "      <td>Барнаул</td>\n",
       "      <td>2933.70</td>\n",
       "    </tr>\n",
       "  </tbody>\n",
       "</table>\n",
       "</div>"
      ],
      "text/plain": [
       "           Город  Расстояние\n",
       "0       Адыгейск     1214.23\n",
       "1         Майкоп     1251.38\n",
       "2  Горно-Алтайск     3133.04\n",
       "3         Алейск     2912.42\n",
       "4        Барнаул     2933.70"
      ]
     },
     "execution_count": 13,
     "metadata": {},
     "output_type": "execute_result"
    }
   ],
   "source": [
    "df[[\"Город\",'Расстояние']].head()"
   ]
  },
  {
   "cell_type": "code",
   "execution_count": 14,
   "metadata": {
    "slideshow": {
     "slide_type": "slide"
    }
   },
   "outputs": [
    {
     "data": {
      "text/html": [
       "<div>\n",
       "<style scoped>\n",
       "    .dataframe tbody tr th:only-of-type {\n",
       "        vertical-align: middle;\n",
       "    }\n",
       "\n",
       "    .dataframe tbody tr th {\n",
       "        vertical-align: top;\n",
       "    }\n",
       "\n",
       "    .dataframe thead th {\n",
       "        text-align: right;\n",
       "    }\n",
       "</style>\n",
       "<table border=\"1\" class=\"dataframe\">\n",
       "  <thead>\n",
       "    <tr style=\"text-align: right;\">\n",
       "      <th></th>\n",
       "      <th>Город</th>\n",
       "      <th>Расстояние</th>\n",
       "    </tr>\n",
       "  </thead>\n",
       "  <tbody>\n",
       "    <tr>\n",
       "      <th>713</th>\n",
       "      <td>Владивосток</td>\n",
       "      <td>6415.71</td>\n",
       "    </tr>\n",
       "  </tbody>\n",
       "</table>\n",
       "</div>"
      ],
      "text/plain": [
       "           Город  Расстояние\n",
       "713  Владивосток     6415.71"
      ]
     },
     "execution_count": 14,
     "metadata": {},
     "output_type": "execute_result"
    }
   ],
   "source": [
    "df[[\"Город\",'Расстояние']].query('Город == \"Владивосток\"')"
   ]
  },
  {
   "cell_type": "code",
   "execution_count": 15,
   "metadata": {
    "slideshow": {
     "slide_type": "slide"
    }
   },
   "outputs": [
    {
     "data": {
      "text/html": [
       "<div>\n",
       "<style scoped>\n",
       "    .dataframe tbody tr th:only-of-type {\n",
       "        vertical-align: middle;\n",
       "    }\n",
       "\n",
       "    .dataframe tbody tr th {\n",
       "        vertical-align: top;\n",
       "    }\n",
       "\n",
       "    .dataframe thead th {\n",
       "        text-align: right;\n",
       "    }\n",
       "</style>\n",
       "<table border=\"1\" class=\"dataframe\">\n",
       "  <thead>\n",
       "    <tr style=\"text-align: right;\">\n",
       "      <th></th>\n",
       "      <th>Город</th>\n",
       "      <th>Расстояние</th>\n",
       "    </tr>\n",
       "  </thead>\n",
       "  <tbody>\n",
       "    <tr>\n",
       "      <th>1</th>\n",
       "      <td>Майкоп</td>\n",
       "      <td>1251.38</td>\n",
       "    </tr>\n",
       "    <tr>\n",
       "      <th>30</th>\n",
       "      <td>Мезень</td>\n",
       "      <td>1176.56</td>\n",
       "    </tr>\n",
       "    <tr>\n",
       "      <th>31</th>\n",
       "      <td>Мирный</td>\n",
       "      <td>794.75</td>\n",
       "    </tr>\n",
       "    <tr>\n",
       "      <th>54</th>\n",
       "      <td>Межгорье</td>\n",
       "      <td>1303.84</td>\n",
       "    </tr>\n",
       "    <tr>\n",
       "      <th>55</th>\n",
       "      <td>Мелеуз</td>\n",
       "      <td>1222.65</td>\n",
       "    </tr>\n",
       "    <tr>\n",
       "      <th>...</th>\n",
       "      <td>...</td>\n",
       "      <td>...</td>\n",
       "    </tr>\n",
       "    <tr>\n",
       "      <th>1049</th>\n",
       "      <td>Миньяр</td>\n",
       "      <td>1256.18</td>\n",
       "    </tr>\n",
       "    <tr>\n",
       "      <th>1071</th>\n",
       "      <td>Мариинский Посад</td>\n",
       "      <td>629.76</td>\n",
       "    </tr>\n",
       "    <tr>\n",
       "      <th>1084</th>\n",
       "      <td>Мирный</td>\n",
       "      <td>4155.84</td>\n",
       "    </tr>\n",
       "    <tr>\n",
       "      <th>1095</th>\n",
       "      <td>Муравленко</td>\n",
       "      <td>2210.05</td>\n",
       "    </tr>\n",
       "    <tr>\n",
       "      <th>1104</th>\n",
       "      <td>Мышкин</td>\n",
       "      <td>232.09</td>\n",
       "    </tr>\n",
       "  </tbody>\n",
       "</table>\n",
       "<p>64 rows × 2 columns</p>\n",
       "</div>"
      ],
      "text/plain": [
       "                 Город  Расстояние\n",
       "1               Майкоп     1251.38\n",
       "30              Мезень     1176.56\n",
       "31              Мирный      794.75\n",
       "54            Межгорье     1303.84\n",
       "55              Мелеуз     1222.65\n",
       "...                ...         ...\n",
       "1049            Миньяр     1256.18\n",
       "1071  Мариинский Посад      629.76\n",
       "1084            Мирный     4155.84\n",
       "1095        Муравленко     2210.05\n",
       "1104            Мышкин      232.09\n",
       "\n",
       "[64 rows x 2 columns]"
      ]
     },
     "execution_count": 15,
     "metadata": {},
     "output_type": "execute_result"
    }
   ],
   "source": [
    "df1 = df[[\"Город\",'Расстояние']]\n",
    "df1 = df1.dropna()\n",
    "df1.loc[df1['Город'].str.contains('М')]"
   ]
  },
  {
   "cell_type": "code",
   "execution_count": 16,
   "metadata": {
    "slideshow": {
     "slide_type": "slide"
    }
   },
   "outputs": [
    {
     "data": {
      "text/html": [
       "<div>\n",
       "<style scoped>\n",
       "    .dataframe tbody tr th:only-of-type {\n",
       "        vertical-align: middle;\n",
       "    }\n",
       "\n",
       "    .dataframe tbody tr th {\n",
       "        vertical-align: top;\n",
       "    }\n",
       "\n",
       "    .dataframe thead th {\n",
       "        text-align: right;\n",
       "    }\n",
       "</style>\n",
       "<table border=\"1\" class=\"dataframe\">\n",
       "  <thead>\n",
       "    <tr style=\"text-align: right;\">\n",
       "      <th></th>\n",
       "      <th>Расстояние</th>\n",
       "    </tr>\n",
       "    <tr>\n",
       "      <th>Город</th>\n",
       "      <th></th>\n",
       "    </tr>\n",
       "  </thead>\n",
       "  <tbody>\n",
       "    <tr>\n",
       "      <th>Адыгейск</th>\n",
       "      <td>1214.23</td>\n",
       "    </tr>\n",
       "    <tr>\n",
       "      <th>Майкоп</th>\n",
       "      <td>1251.38</td>\n",
       "    </tr>\n",
       "    <tr>\n",
       "      <th>Горно-Алтайск</th>\n",
       "      <td>3133.04</td>\n",
       "    </tr>\n",
       "    <tr>\n",
       "      <th>Алейск</th>\n",
       "      <td>2912.42</td>\n",
       "    </tr>\n",
       "    <tr>\n",
       "      <th>Барнаул</th>\n",
       "      <td>2933.70</td>\n",
       "    </tr>\n",
       "  </tbody>\n",
       "</table>\n",
       "</div>"
      ],
      "text/plain": [
       "               Расстояние\n",
       "Город                    \n",
       "Адыгейск          1214.23\n",
       "Майкоп            1251.38\n",
       "Горно-Алтайск     3133.04\n",
       "Алейск            2912.42\n",
       "Барнаул           2933.70"
      ]
     },
     "execution_count": 16,
     "metadata": {},
     "output_type": "execute_result"
    }
   ],
   "source": [
    "# Колонка <Город> становится индексом\n",
    "df2 = df1.set_index(\"Город\")\n",
    "df2.head()"
   ]
  },
  {
   "cell_type": "code",
   "execution_count": 17,
   "metadata": {
    "slideshow": {
     "slide_type": "slide"
    }
   },
   "outputs": [
    {
     "data": {
      "text/html": [
       "<div>\n",
       "<style scoped>\n",
       "    .dataframe tbody tr th:only-of-type {\n",
       "        vertical-align: middle;\n",
       "    }\n",
       "\n",
       "    .dataframe tbody tr th {\n",
       "        vertical-align: top;\n",
       "    }\n",
       "\n",
       "    .dataframe thead th {\n",
       "        text-align: right;\n",
       "    }\n",
       "</style>\n",
       "<table border=\"1\" class=\"dataframe\">\n",
       "  <thead>\n",
       "    <tr style=\"text-align: right;\">\n",
       "      <th></th>\n",
       "      <th>Расстояние</th>\n",
       "    </tr>\n",
       "    <tr>\n",
       "      <th>Город</th>\n",
       "      <th></th>\n",
       "    </tr>\n",
       "  </thead>\n",
       "  <tbody>\n",
       "    <tr>\n",
       "      <th>Майкоп</th>\n",
       "      <td>1251.38</td>\n",
       "    </tr>\n",
       "  </tbody>\n",
       "</table>\n",
       "</div>"
      ],
      "text/plain": [
       "        Расстояние\n",
       "Город             \n",
       "Майкоп     1251.38"
      ]
     },
     "execution_count": 17,
     "metadata": {},
     "output_type": "execute_result"
    }
   ],
   "source": [
    "df2.loc[[\"Майкоп\"]]"
   ]
  },
  {
   "cell_type": "code",
   "execution_count": 18,
   "metadata": {
    "slideshow": {
     "slide_type": "slide"
    }
   },
   "outputs": [],
   "source": [
    "df2 = df2.sort_index()"
   ]
  },
  {
   "cell_type": "code",
   "execution_count": 19,
   "metadata": {
    "slideshow": {
     "slide_type": "slide"
    }
   },
   "outputs": [
    {
     "data": {
      "text/html": [
       "<div>\n",
       "<style scoped>\n",
       "    .dataframe tbody tr th:only-of-type {\n",
       "        vertical-align: middle;\n",
       "    }\n",
       "\n",
       "    .dataframe tbody tr th {\n",
       "        vertical-align: top;\n",
       "    }\n",
       "\n",
       "    .dataframe thead th {\n",
       "        text-align: right;\n",
       "    }\n",
       "</style>\n",
       "<table border=\"1\" class=\"dataframe\">\n",
       "  <thead>\n",
       "    <tr style=\"text-align: right;\">\n",
       "      <th></th>\n",
       "      <th>Расстояние</th>\n",
       "    </tr>\n",
       "    <tr>\n",
       "      <th>Город</th>\n",
       "      <th></th>\n",
       "    </tr>\n",
       "  </thead>\n",
       "  <tbody>\n",
       "    <tr>\n",
       "      <th>Абаза</th>\n",
       "      <td>3347.84</td>\n",
       "    </tr>\n",
       "    <tr>\n",
       "      <th>Абакан</th>\n",
       "      <td>3375.37</td>\n",
       "    </tr>\n",
       "    <tr>\n",
       "      <th>Абдулино</th>\n",
       "      <td>1052.71</td>\n",
       "    </tr>\n",
       "    <tr>\n",
       "      <th>Абинск</th>\n",
       "      <td>1210.92</td>\n",
       "    </tr>\n",
       "    <tr>\n",
       "      <th>Агидель</th>\n",
       "      <td>1016.30</td>\n",
       "    </tr>\n",
       "    <tr>\n",
       "      <th>...</th>\n",
       "      <td>...</td>\n",
       "    </tr>\n",
       "    <tr>\n",
       "      <th>Ярославль</th>\n",
       "      <td>250.25</td>\n",
       "    </tr>\n",
       "    <tr>\n",
       "      <th>Ярцево</th>\n",
       "      <td>320.37</td>\n",
       "    </tr>\n",
       "    <tr>\n",
       "      <th>Ясногорск</th>\n",
       "      <td>141.60</td>\n",
       "    </tr>\n",
       "    <tr>\n",
       "      <th>Ясный</th>\n",
       "      <td>1558.11</td>\n",
       "    </tr>\n",
       "    <tr>\n",
       "      <th>Яхрома</th>\n",
       "      <td>60.26</td>\n",
       "    </tr>\n",
       "  </tbody>\n",
       "</table>\n",
       "<p>1108 rows × 1 columns</p>\n",
       "</div>"
      ],
      "text/plain": [
       "           Расстояние\n",
       "Город                \n",
       "Абаза         3347.84\n",
       "Абакан        3375.37\n",
       "Абдулино      1052.71\n",
       "Абинск        1210.92\n",
       "Агидель       1016.30\n",
       "...               ...\n",
       "Ярославль      250.25\n",
       "Ярцево         320.37\n",
       "Ясногорск      141.60\n",
       "Ясный         1558.11\n",
       "Яхрома          60.26\n",
       "\n",
       "[1108 rows x 1 columns]"
      ]
     },
     "execution_count": 19,
     "metadata": {},
     "output_type": "execute_result"
    }
   ],
   "source": [
    "df2"
   ]
  },
  {
   "cell_type": "code",
   "execution_count": 20,
   "metadata": {
    "slideshow": {
     "slide_type": "slide"
    }
   },
   "outputs": [
    {
     "data": {
      "text/plain": [
       "(703, 707)"
      ]
     },
     "execution_count": 20,
     "metadata": {},
     "output_type": "execute_result"
    }
   ],
   "source": [
    "# Получение номера индекса по значению(имени) индекса\n",
    "idx_omsk = df2.index.get_loc(\"Омск\")\n",
    "idx_orenburg = df2.index.get_loc(\"Оренбург\")\n",
    "idx_omsk, idx_orenburg"
   ]
  },
  {
   "cell_type": "code",
   "execution_count": 21,
   "metadata": {
    "slideshow": {
     "slide_type": "slide"
    }
   },
   "outputs": [
    {
     "data": {
      "text/html": [
       "<div>\n",
       "<style scoped>\n",
       "    .dataframe tbody tr th:only-of-type {\n",
       "        vertical-align: middle;\n",
       "    }\n",
       "\n",
       "    .dataframe tbody tr th {\n",
       "        vertical-align: top;\n",
       "    }\n",
       "\n",
       "    .dataframe thead th {\n",
       "        text-align: right;\n",
       "    }\n",
       "</style>\n",
       "<table border=\"1\" class=\"dataframe\">\n",
       "  <thead>\n",
       "    <tr style=\"text-align: right;\">\n",
       "      <th></th>\n",
       "      <th>Расстояние</th>\n",
       "    </tr>\n",
       "    <tr>\n",
       "      <th>Город</th>\n",
       "      <th></th>\n",
       "    </tr>\n",
       "  </thead>\n",
       "  <tbody>\n",
       "    <tr>\n",
       "      <th>Омск</th>\n",
       "      <td>2235.75</td>\n",
       "    </tr>\n",
       "    <tr>\n",
       "      <th>Омутнинск</th>\n",
       "      <td>933.36</td>\n",
       "    </tr>\n",
       "    <tr>\n",
       "      <th>Онега</th>\n",
       "      <td>908.21</td>\n",
       "    </tr>\n",
       "    <tr>\n",
       "      <th>Опочка</th>\n",
       "      <td>562.56</td>\n",
       "    </tr>\n",
       "    <tr>\n",
       "      <th>Оренбург</th>\n",
       "      <td>1226.75</td>\n",
       "    </tr>\n",
       "  </tbody>\n",
       "</table>\n",
       "</div>"
      ],
      "text/plain": [
       "           Расстояние\n",
       "Город                \n",
       "Омск          2235.75\n",
       "Омутнинск      933.36\n",
       "Онега          908.21\n",
       "Опочка         562.56\n",
       "Оренбург      1226.75"
      ]
     },
     "execution_count": 21,
     "metadata": {},
     "output_type": "execute_result"
    }
   ],
   "source": [
    "df2.loc[\"Омск\": \"Оренбург\"] # Последний элемент входит в выдачу"
   ]
  },
  {
   "cell_type": "code",
   "execution_count": 22,
   "metadata": {
    "slideshow": {
     "slide_type": "slide"
    }
   },
   "outputs": [
    {
     "data": {
      "text/html": [
       "<div>\n",
       "<style scoped>\n",
       "    .dataframe tbody tr th:only-of-type {\n",
       "        vertical-align: middle;\n",
       "    }\n",
       "\n",
       "    .dataframe tbody tr th {\n",
       "        vertical-align: top;\n",
       "    }\n",
       "\n",
       "    .dataframe thead th {\n",
       "        text-align: right;\n",
       "    }\n",
       "</style>\n",
       "<table border=\"1\" class=\"dataframe\">\n",
       "  <thead>\n",
       "    <tr style=\"text-align: right;\">\n",
       "      <th></th>\n",
       "      <th>Расстояние</th>\n",
       "    </tr>\n",
       "    <tr>\n",
       "      <th>Город</th>\n",
       "      <th></th>\n",
       "    </tr>\n",
       "  </thead>\n",
       "  <tbody>\n",
       "    <tr>\n",
       "      <th>Омск</th>\n",
       "      <td>2235.75</td>\n",
       "    </tr>\n",
       "    <tr>\n",
       "      <th>Омутнинск</th>\n",
       "      <td>933.36</td>\n",
       "    </tr>\n",
       "    <tr>\n",
       "      <th>Онега</th>\n",
       "      <td>908.21</td>\n",
       "    </tr>\n",
       "    <tr>\n",
       "      <th>Опочка</th>\n",
       "      <td>562.56</td>\n",
       "    </tr>\n",
       "    <tr>\n",
       "      <th>Оренбург</th>\n",
       "      <td>1226.75</td>\n",
       "    </tr>\n",
       "  </tbody>\n",
       "</table>\n",
       "</div>"
      ],
      "text/plain": [
       "           Расстояние\n",
       "Город                \n",
       "Омск          2235.75\n",
       "Омутнинск      933.36\n",
       "Онега          908.21\n",
       "Опочка         562.56\n",
       "Оренбург      1226.75"
      ]
     },
     "execution_count": 22,
     "metadata": {},
     "output_type": "execute_result"
    }
   ],
   "source": [
    "df2.iloc[703:708]  # Последний элемент не входит в выдачу"
   ]
  }
 ],
 "metadata": {
  "celltoolbar": "Слайд-шоу",
  "kernelspec": {
   "display_name": "Python 3 (ipykernel)",
   "language": "python",
   "name": "python3"
  },
  "language_info": {
   "codemirror_mode": {
    "name": "ipython",
    "version": 3
   },
   "file_extension": ".py",
   "mimetype": "text/x-python",
   "name": "python",
   "nbconvert_exporter": "python",
   "pygments_lexer": "ipython3",
   "version": "3.10.12"
  }
 },
 "nbformat": 4,
 "nbformat_minor": 4
}
