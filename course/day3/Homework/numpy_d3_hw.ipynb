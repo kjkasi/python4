{
 "cells": [
  {
   "cell_type": "code",
   "execution_count": 10,
   "metadata": {},
   "outputs": [],
   "source": [
    "import numpy as np"
   ]
  },
  {
   "cell_type": "markdown",
   "metadata": {},
   "source": [
    "__Задача №1__\n",
    "\n",
    "Напишите функцию, которая находит сумму четных элементов на главной \n",
    "диагонали квадратной матрицы (именно чётных элементов, а не элементов на чётных позициях!). \n",
    "Если чётных элементов нет, то вывести 0"
   ]
  },
  {
   "cell_type": "code",
   "execution_count": 48,
   "metadata": {},
   "outputs": [
    {
     "name": "stdout",
     "output_type": "stream",
     "text": [
      "[[ 0  1  2  3  4]\n",
      " [ 5  6  7  8  9]\n",
      " [10 11 12 13 14]\n",
      " [15 16 17 18 19]\n",
      " [20 21 22 23 24]]\n",
      "[ 0  6 12 18 24]\n",
      "[ 0  6 12 18 24]\n",
      "60\n"
     ]
    }
   ],
   "source": [
    "# Ваш код\n",
    "matrix = np.arange(25).reshape(5, 5)\n",
    "print(matrix)\n",
    "\n",
    "def sum_diagonal_enum(mtrx: np.ndarray) -> int:\n",
    "    diagonal = np.diagonal(mtrx)\n",
    "    print(diagonal)\n",
    "    enum = diagonal[diagonal % 2 == 0]\n",
    "    print(enum)\n",
    "    sum_enum = np.sum(enum)\n",
    "    return sum_enum if sum_enum > 0 else 0\n",
    "\n",
    "print(sum_diagonal_enum(matrix))\n"
   ]
  },
  {
   "cell_type": "markdown",
   "metadata": {},
   "source": [
    "__Задача №2__\n",
    "\n",
    "Решить задачи при условии, что массив может быть любой размерности:\n",
    "\n",
    "2.1 Заменить максимальный элемент массива на 1000. (Повторяющихся максимальных элементов нет. Нужно создать такой 2d массив.)    \n",
    "2.2 Заменить минимальный элемент массива на 0. (Повторяющиеся минимальные элементы есть, поэтому нужно заменить все)"
   ]
  },
  {
   "cell_type": "code",
   "execution_count": 86,
   "metadata": {},
   "outputs": [
    {
     "name": "stdout",
     "output_type": "stream",
     "text": [
      "[155 687 127 471 840  54 831 698 586 410]\n",
      "[ 54 127 155 410 471 586 687 698 831 840]\n",
      "840\n",
      "[  54  127  155  410  471  586  687  698  831 1000]\n"
     ]
    }
   ],
   "source": [
    "mas = np.random.randint(1, 1000, 10)\n",
    "print(mas)\n",
    "mas_unq = np.unique(mas)\n",
    "print(mas_unq)\n",
    "max = np.max(mas_unq)\n",
    "print(max)\n",
    "\n",
    "mas_unq[np.where(mas_unq == max)] = 1000\n",
    "print(mas_unq)\n",
    "#np.unique(mas, return_counts=True)"
   ]
  },
  {
   "cell_type": "markdown",
   "metadata": {},
   "source": [
    "__Задача №3*__  \n",
    "\n",
    "С помощью numpy написать функцию для кодирования массива (Run-length encoding). \n",
    "Все подряд повторения элементов функция сжимает в один элемент и \n",
    "считает количество повторений. \n",
    "Функция возвращает кортеж из двух `numpy`-векторов одинаковой длины. \n",
    "Первый содержит элементы, а второй — сколько раз их нужно повторить.\n",
    "\n",
    "Пример: \n",
    "```\n",
    "In[1]: encode(np.array([1, 2, 2, 3, 3, 1, 1, 5, 5, 2, 3, 3])) \n",
    "Out[1]: (np.array([1, 2, 3, 1, 5, 2, 3]), np.array([1, 2, 2, 2, 2, 1, 2]))\n",
    "```"
   ]
  },
  {
   "cell_type": "code",
   "execution_count": 169,
   "metadata": {
    "scrolled": true
   },
   "outputs": [
    {
     "name": "stdout",
     "output_type": "stream",
     "text": [
      "arr: [1 2 2 3 3 1 1 5 5 2 3 3 3]\n",
      "arr1: [  1   2   2   3   3   1   1   5   5   2   3   3   3 100]\n",
      "diff: [ 1  0  1  0 -2  0  4  0 -3  1  0  0 97]\n",
      "zero: (array([ 0,  2,  4,  6,  8,  9, 12]),)\n",
      "where1: (array([ 0,  2,  4,  6,  8,  9, 12]),)\n",
      "result: [1 2 3 1 5 2 3]\n"
     ]
    },
    {
     "data": {
      "text/plain": [
       "array([-1,  1, -1, -2,  2,  4, -4, -3,  4, -1,  0, 97])"
      ]
     },
     "execution_count": 169,
     "metadata": {},
     "output_type": "execute_result"
    }
   ],
   "source": [
    "# Ваш код \n",
    "# Подсказка, что использовать:\n",
    "# diff() nonzero() where()\n",
    "arr = np.array([1, 2, 2, 3, 3, 1, 1, 5, 5, 2, 3, 3, 3])\n",
    "print(f\"arr: {arr}\")\n",
    "arr1 = np.append(arr, 100)\n",
    "print(f\"arr1: {arr1}\")\n",
    "diff = np.diff(arr1)\n",
    "print(f\"diff: {diff}\")\n",
    "zero = np.nonzero(diff)\n",
    "print(f\"zero: {zero}\")\n",
    "# array[zero]\n",
    "where1 = np.where(np.diff(arr1) != 0)\n",
    "print(f\"where1: {where1}\")\n",
    "result = arr1[where1]\n",
    "print(f\"result: {result}\")\n",
    "#np.add(arr, diff)\n",
    "#arr - diff\n",
    "np.diff(diff)\n"
   ]
  },
  {
   "cell_type": "code",
   "execution_count": null,
   "metadata": {},
   "outputs": [],
   "source": []
  },
  {
   "cell_type": "code",
   "execution_count": null,
   "metadata": {},
   "outputs": [],
   "source": []
  },
  {
   "cell_type": "code",
   "execution_count": null,
   "metadata": {},
   "outputs": [],
   "source": []
  },
  {
   "cell_type": "code",
   "execution_count": null,
   "metadata": {},
   "outputs": [],
   "source": []
  }
 ],
 "metadata": {
  "kernelspec": {
   "display_name": "Python 3 (ipykernel)",
   "language": "python",
   "name": "python3"
  },
  "language_info": {
   "codemirror_mode": {
    "name": "ipython",
    "version": 3
   },
   "file_extension": ".py",
   "mimetype": "text/x-python",
   "name": "python",
   "nbconvert_exporter": "python",
   "pygments_lexer": "ipython3",
   "version": "3.11.6"
  }
 },
 "nbformat": 4,
 "nbformat_minor": 4
}
