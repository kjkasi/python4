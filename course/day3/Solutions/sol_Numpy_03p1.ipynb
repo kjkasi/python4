{
 "cells": [
  {
   "cell_type": "code",
   "execution_count": 8,
   "id": "3bc76015",
   "metadata": {
    "slideshow": {
     "slide_type": "slide"
    }
   },
   "outputs": [],
   "source": [
    "import numpy as np\n",
    "from IPython.core.interactiveshell import InteractiveShell\n",
    "InteractiveShell.ast_node_interactivity = \"all\" "
   ]
  },
  {
   "cell_type": "markdown",
   "id": "f4a537d1",
   "metadata": {
    "slideshow": {
     "slide_type": "slide"
    }
   },
   "source": [
    "#### Задача 2 \n",
    "```\n",
    "np.random.seed(5)  \n",
    "```\n",
    "Дана матрица 4х3, со случайные целыми числами от 1 до 100:  \n",
    "- найти столбец в котором разница между мин и макс минимальна и удалить его"
   ]
  },
  {
   "cell_type": "code",
   "execution_count": 6,
   "id": "99960718",
   "metadata": {
    "slideshow": {
     "slide_type": "slide"
    }
   },
   "outputs": [
    {
     "name": "stdout",
     "output_type": "stream",
     "text": [
      "[[ 9 22  5]\n",
      " [47 43 31]\n",
      " [25 35  2]\n",
      " [42 26 36]]\n"
     ]
    }
   ],
   "source": [
    "# Подсказки, что потребуется\n",
    "a2d = np.random.randint(1, 50, (4, 3))\n",
    "print(a2d)\n",
    "# Подсказка, что можно использовать\n",
    "# np.argmin(a2d)  # flat индекс минимального элемента"
   ]
  },
  {
   "cell_type": "code",
   "execution_count": 9,
   "id": "bf5e52ec",
   "metadata": {
    "slideshow": {
     "slide_type": "slide"
    }
   },
   "outputs": [
    {
     "data": {
      "text/plain": [
       "8"
      ]
     },
     "execution_count": 9,
     "metadata": {},
     "output_type": "execute_result"
    },
    {
     "data": {
      "text/plain": [
       "(2, 2)"
      ]
     },
     "execution_count": 9,
     "metadata": {},
     "output_type": "execute_result"
    }
   ],
   "source": [
    "# Подсказки, что потребуется:\n",
    "# индекс в размерности массива\n",
    "np.argmin(a2d)\n",
    "np.unravel_index(np.argmin(a2d), a2d.shape)"
   ]
  },
  {
   "cell_type": "code",
   "execution_count": 10,
   "id": "0187120d",
   "metadata": {
    "slideshow": {
     "slide_type": "slide"
    }
   },
   "outputs": [
    {
     "name": "stdout",
     "output_type": "stream",
     "text": [
      "Вектор разниц между макс и мин по столбцам\n",
      "[38 21 34]\n"
     ]
    }
   ],
   "source": [
    "print('Вектор разниц между макс и мин по столбцам')\n",
    "column_diffs = np.max(a2d, axis=0) - np.min(a2d, axis=0)\n",
    "print(column_diffs)"
   ]
  },
  {
   "cell_type": "code",
   "execution_count": 12,
   "id": "31a86d11",
   "metadata": {
    "slideshow": {
     "slide_type": "slide"
    }
   },
   "outputs": [
    {
     "name": "stdout",
     "output_type": "stream",
     "text": [
      "Наименьший элемент: 21 и его плоский (flat) индекс(столбец в исходной матрице): 1\n"
     ]
    }
   ],
   "source": [
    "index_of_min = np.argmin(column_diffs)\n",
    "print(f'Наименьший элемент: {np.min(column_diffs)} и его плоский (flat) индекс(столбец в исходной матрице): \\\n",
    "{index_of_min}')"
   ]
  },
  {
   "cell_type": "code",
   "execution_count": 13,
   "id": "9752c696",
   "metadata": {
    "slideshow": {
     "slide_type": "slide"
    }
   },
   "outputs": [
    {
     "name": "stdout",
     "output_type": "stream",
     "text": [
      "[[ 9  5]\n",
      " [47 31]\n",
      " [25  2]\n",
      " [42 36]]\n"
     ]
    }
   ],
   "source": [
    "a2d_after_del = np.delete(a2d, index_of_min, axis=1)\n",
    "print(a2d_after_del)"
   ]
  },
  {
   "cell_type": "markdown",
   "id": "7f7fb664",
   "metadata": {
    "slideshow": {
     "slide_type": "slide"
    }
   },
   "source": [
    "####  Задача 3. Решить задачу 2 для 3d массива\n",
    "Дополнение: вырезать прямоугольник, в котором находится нужный столбец, в глубину"
   ]
  },
  {
   "cell_type": "code",
   "execution_count": 14,
   "id": "8fd3fab0",
   "metadata": {
    "slideshow": {
     "slide_type": "slide"
    }
   },
   "outputs": [
    {
     "data": {
      "text/plain": [
       "array([[[52, 93, 15, 72],\n",
       "        [61, 21, 83, 87],\n",
       "        [75, 75, 88, 24]],\n",
       "\n",
       "       [[ 3, 22, 53,  2],\n",
       "        [88, 30, 38,  2],\n",
       "        [64, 60, 21, 33]],\n",
       "\n",
       "       [[76, 58, 22, 89],\n",
       "        [49, 91, 59, 42],\n",
       "        [92, 60, 80, 15]],\n",
       "\n",
       "       [[62, 62, 47, 62],\n",
       "        [51, 55, 64,  3],\n",
       "        [51,  7, 21, 73]]])"
      ]
     },
     "execution_count": 14,
     "metadata": {},
     "output_type": "execute_result"
    }
   ],
   "source": [
    "np.random.seed(42) \n",
    "a3d = np.random.randint(1, 100, (4, 3, 4)); a3d"
   ]
  },
  {
   "cell_type": "code",
   "execution_count": 15,
   "id": "0c154695",
   "metadata": {
    "slideshow": {
     "slide_type": "slide"
    }
   },
   "outputs": [
    {
     "name": "stdout",
     "output_type": "stream",
     "text": [
      "Матрица разниц между макс и мин по столбцам во всех слоях.\n",
      "[[23 72 73 63]\n",
      " [85 38 32 31]\n",
      " [43 33 58 74]\n",
      " [11 55 43 70]]\n"
     ]
    }
   ],
   "source": [
    "print('Матрица разниц между макс и мин по столбцам во всех слоях.')\n",
    "delta_2d = np.max(a3d,  axis=1) - np.min(a3d,  axis=1)\n",
    "print(delta_2d)"
   ]
  },
  {
   "cell_type": "code",
   "execution_count": 17,
   "id": "e38b81f1",
   "metadata": {
    "slideshow": {
     "slide_type": "slide"
    }
   },
   "outputs": [
    {
     "data": {
      "text/plain": [
       "'flat_idx = 12'"
      ]
     },
     "execution_count": 17,
     "metadata": {},
     "output_type": "execute_result"
    },
    {
     "name": "stdout",
     "output_type": "stream",
     "text": [
      "Наименьший элемент: 11 и его индекс (3, 0)\n"
     ]
    }
   ],
   "source": [
    "flat_idx = np.argmin(delta_2d)\n",
    "f'{flat_idx = }'\n",
    "min_col_index = np.unravel_index(flat_idx, delta_2d.shape)\n",
    "print(f'Наименьший элемент: {np.min(delta_2d)} и его индекс {min_col_index}')"
   ]
  },
  {
   "cell_type": "code",
   "execution_count": 18,
   "id": "c32ccaf0",
   "metadata": {
    "slideshow": {
     "slide_type": "slide"
    }
   },
   "outputs": [
    {
     "data": {
      "text/plain": [
       "array([[[93, 15, 72],\n",
       "        [21, 83, 87],\n",
       "        [75, 88, 24]],\n",
       "\n",
       "       [[22, 53,  2],\n",
       "        [30, 38,  2],\n",
       "        [60, 21, 33]],\n",
       "\n",
       "       [[58, 22, 89],\n",
       "        [91, 59, 42],\n",
       "        [60, 80, 15]],\n",
       "\n",
       "       [[62, 47, 62],\n",
       "        [55, 64,  3],\n",
       "        [ 7, 21, 73]]])"
      ]
     },
     "execution_count": 18,
     "metadata": {},
     "output_type": "execute_result"
    }
   ],
   "source": [
    "a3d_after_del = np.delete(a3d, min_col_index[-1], axis=2)\n",
    "a3d_after_del"
   ]
  },
  {
   "cell_type": "markdown",
   "id": "77f0f9f5",
   "metadata": {
    "slideshow": {
     "slide_type": "slide"
    }
   },
   "source": [
    "#### Check"
   ]
  },
  {
   "cell_type": "code",
   "execution_count": 20,
   "id": "1406cd19",
   "metadata": {
    "slideshow": {
     "slide_type": "fragment"
    }
   },
   "outputs": [
    {
     "data": {
      "text/plain": [
       "array([[[39, 18,  4, 89],\n",
       "        [60, 14,  9, 90],\n",
       "        [53,  2, 84, 92]],\n",
       "\n",
       "       [[60, 71, 44,  8],\n",
       "        [47, 35, 78, 81],\n",
       "        [36, 50,  4,  2]],\n",
       "\n",
       "       [[ 6, 54,  4, 54],\n",
       "        [93, 63, 18, 90],\n",
       "        [44, 34, 74, 62]],\n",
       "\n",
       "       [[14, 95, 48, 15],\n",
       "        [72, 78, 87, 62],\n",
       "        [40, 85, 80, 82]]])"
      ]
     },
     "execution_count": 20,
     "metadata": {},
     "output_type": "execute_result"
    }
   ],
   "source": [
    "a3d = np.random.randint(1, 100, (4, 3, 4)); a3d"
   ]
  },
  {
   "cell_type": "code",
   "execution_count": 21,
   "id": "ff3ad4a2",
   "metadata": {
    "slideshow": {
     "slide_type": "fragment"
    }
   },
   "outputs": [
    {
     "data": {
      "text/plain": [
       "(1, 2, 2)"
      ]
     },
     "execution_count": 21,
     "metadata": {},
     "output_type": "execute_result"
    }
   ],
   "source": [
    "np.unravel_index(22, a3d.shape)  # (1, 2, 2)"
   ]
  }
 ],
 "metadata": {
  "celltoolbar": "Слайд-шоу",
  "kernelspec": {
   "display_name": "Python 3 (ipykernel)",
   "language": "python",
   "name": "python3"
  },
  "language_info": {
   "codemirror_mode": {
    "name": "ipython",
    "version": 3
   },
   "file_extension": ".py",
   "mimetype": "text/x-python",
   "name": "python",
   "nbconvert_exporter": "python",
   "pygments_lexer": "ipython3",
   "version": "3.10.12"
  }
 },
 "nbformat": 4,
 "nbformat_minor": 5
}
