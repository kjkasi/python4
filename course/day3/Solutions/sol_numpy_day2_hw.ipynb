{
 "cells": [
  {
   "cell_type": "code",
   "execution_count": 6,
   "metadata": {
    "slideshow": {
     "slide_type": "slide"
    }
   },
   "outputs": [],
   "source": [
    "# 1. Импортировать NumPy\n",
    "import numpy as np\n",
    "from IPython.core.interactiveshell import InteractiveShell\n",
    "InteractiveShell.ast_node_interactivity = \"all\" \n",
    "np.set_printoptions(linewidth=100)"
   ]
  },
  {
   "cell_type": "code",
   "execution_count": 2,
   "metadata": {
    "slideshow": {
     "slide_type": "slide"
    }
   },
   "outputs": [
    {
     "data": {
      "text/plain": [
       "array([[94,  7, 58, 64, 20, 25, 85, 76, 76, 22],\n",
       "       [85, 20, 42, 38, 17, 88,  6, 64, 91, 92],\n",
       "       [18, 29, 12, 24, 12, 42, 18, 14, 21, 66],\n",
       "       [42, 46, 19, 38, 31, 59, 33, 35, 40, 22],\n",
       "       [81, 46, 89, 95, 48, 28, 18, 71, 20, 72],\n",
       "       [45, 79, 48, 39, 53, 96,  2, 64, 10, 43],\n",
       "       [99, 82, 45, 33, 30, 25, 64, 24,  4, 82],\n",
       "       [ 9, 37, 26, 14, 71, 48, 33, 96, 76, 95],\n",
       "       [ 8, 95, 20, 31,  3, 52, 81, 72, 55, 10],\n",
       "       [22, 11, 33, 42, 45, 20,  1, 32, 37, 53]], dtype=int64)"
      ]
     },
     "execution_count": 2,
     "metadata": {},
     "output_type": "execute_result"
    }
   ],
   "source": [
    "# 1.1 Создать массив 10 x 10 со случайными значениями от 1 до 100(int64)\n",
    "width = height = 10\n",
    "arr = np.random.randint(1, 100, size=(width, height), dtype=np.int64)\n",
    "arr\n"
   ]
  },
  {
   "cell_type": "code",
   "execution_count": 3,
   "metadata": {
    "slideshow": {
     "slide_type": "slide"
    }
   },
   "outputs": [
    {
     "data": {
      "text/plain": [
       "44.54"
      ]
     },
     "execution_count": 3,
     "metadata": {},
     "output_type": "execute_result"
    }
   ],
   "source": [
    "# 1.2 найти среднее значение всех элементов массива np.mean()\n",
    "avg = np.mean(arr)\n",
    "avg"
   ]
  },
  {
   "cell_type": "code",
   "execution_count": 4,
   "metadata": {
    "slideshow": {
     "slide_type": "slide"
    }
   },
   "outputs": [
    {
     "data": {
      "text/plain": [
       "array([[94. ,  7. , 58. , 64. , 20. , 25. , 85. , 76. , 76. , 22. , 52.7],\n",
       "       [85. , 20. , 42. , 38. , 17. , 88. ,  6. , 64. , 91. , 92. , 54.3],\n",
       "       [18. , 29. , 12. , 24. , 12. , 42. , 18. , 14. , 21. , 66. , 25.6],\n",
       "       [42. , 46. , 19. , 38. , 31. , 59. , 33. , 35. , 40. , 22. , 36.5],\n",
       "       [81. , 46. , 89. , 95. , 48. , 28. , 18. , 71. , 20. , 72. , 56.8],\n",
       "       [45. , 79. , 48. , 39. , 53. , 96. ,  2. , 64. , 10. , 43. , 47.9],\n",
       "       [99. , 82. , 45. , 33. , 30. , 25. , 64. , 24. ,  4. , 82. , 48.8],\n",
       "       [ 9. , 37. , 26. , 14. , 71. , 48. , 33. , 96. , 76. , 95. , 50.5],\n",
       "       [ 8. , 95. , 20. , 31. ,  3. , 52. , 81. , 72. , 55. , 10. , 42.7],\n",
       "       [22. , 11. , 33. , 42. , 45. , 20. ,  1. , 32. , 37. , 53. , 29.6]])"
      ]
     },
     "execution_count": 4,
     "metadata": {},
     "output_type": "execute_result"
    }
   ],
   "source": [
    "# 1.3 найти среднее значение всех элементов для каждой строки   np.mean()\n",
    "# и добавить как новый столбец\n",
    "avg_rows = np.mean(arr, axis=1)\n",
    "arr_new = np.concatenate((arr, avg_rows.reshape(width, 1)), axis=1)\n",
    "arr_new"
   ]
  },
  {
   "cell_type": "code",
   "execution_count": 7,
   "metadata": {
    "slideshow": {
     "slide_type": "slide"
    }
   },
   "outputs": [
    {
     "data": {
      "text/plain": [
       "array([[ 94. ,   7. ,  58. ,  64. ,  20. ,  25. ,  85. ,  76. ,  76. ,  22. ,  52.7],\n",
       "       [ 85. ,  20. ,  42. ,  38. ,  17. ,  88. ,   6. ,  64. ,  91. ,  92. ,  54.3],\n",
       "       [ 18. ,  29. ,  12. ,  24. ,  12. ,  42. ,  18. ,  14. ,  21. ,  66. ,  25.6],\n",
       "       [ 42. ,  46. ,  19. ,  38. ,  31. ,  59. ,  33. ,  35. ,  40. ,  22. ,  36.5],\n",
       "       [ 81. ,  46. ,  89. ,  95. ,  48. ,  28. ,  18. ,  71. ,  20. ,  72. ,  56.8],\n",
       "       [ 45. ,  79. ,  48. ,  39. ,  53. ,  96. ,   2. ,  64. ,  10. ,  43. ,  47.9],\n",
       "       [ 99. ,  82. ,  45. ,  33. ,  30. ,  25. ,  64. ,  24. ,   4. ,  82. ,  48.8],\n",
       "       [  9. ,  37. ,  26. ,  14. ,  71. ,  48. ,  33. ,  96. ,  76. ,  95. ,  50.5],\n",
       "       [  8. ,  95. ,  20. ,  31. ,   3. ,  52. ,  81. ,  72. ,  55. ,  10. ,  42.7],\n",
       "       [ 22. ,  11. ,  33. ,  42. ,  45. ,  20. ,   1. ,  32. ,  37. ,  53. ,  29.6],\n",
       "       [503. , 452. , 392. , 418. , 330. , 483. , 341. , 548. , 430. , 557. , 445.4]])"
      ]
     },
     "execution_count": 7,
     "metadata": {},
     "output_type": "execute_result"
    }
   ],
   "source": [
    "# 1.4 найти сумму значение всех элементов для каждого столбца   np.sum()\n",
    "# и добавить как новую строку, учитывая результат 1.3\n",
    "sum_columns = np.sum(arr_new, axis=0)\n",
    "arr_result = np.concatenate((arr_new, sum_columns.reshape(1, -1)), axis=0)\n",
    "arr_result"
   ]
  },
  {
   "cell_type": "code",
   "execution_count": 10,
   "metadata": {
    "slideshow": {
     "slide_type": "slide"
    }
   },
   "outputs": [],
   "source": [
    "# 2. Создать матрицу 7x7 с значениями 1,2,3,4,5,6,7 по главной диагонали, остальные нули.\n",
    "#    С помощью функции np.diag() и без(используя broadcasting)"
   ]
  },
  {
   "cell_type": "code",
   "execution_count": 13,
   "metadata": {
    "slideshow": {
     "slide_type": "slide"
    }
   },
   "outputs": [
    {
     "data": {
      "text/plain": [
       "array([[0, 0, 0, 0, 0, 0, 0, 0],\n",
       "       [1, 0, 0, 0, 0, 0, 0, 0],\n",
       "       [0, 2, 0, 0, 0, 0, 0, 0],\n",
       "       [0, 0, 3, 0, 0, 0, 0, 0],\n",
       "       [0, 0, 0, 4, 0, 0, 0, 0],\n",
       "       [0, 0, 0, 0, 5, 0, 0, 0],\n",
       "       [0, 0, 0, 0, 0, 6, 0, 0],\n",
       "       [0, 0, 0, 0, 0, 0, 7, 0]])"
      ]
     },
     "execution_count": 13,
     "metadata": {},
     "output_type": "execute_result"
    }
   ],
   "source": [
    "# without broadcasting\n",
    "a = np.arange(1, 8)\n",
    "np.diag(a, k=-1)"
   ]
  },
  {
   "cell_type": "code",
   "execution_count": 15,
   "metadata": {
    "slideshow": {
     "slide_type": "slide"
    }
   },
   "outputs": [
    {
     "data": {
      "text/plain": [
       "array([[1., 0., 0., 0., 0., 0., 0.],\n",
       "       [0., 2., 0., 0., 0., 0., 0.],\n",
       "       [0., 0., 3., 0., 0., 0., 0.],\n",
       "       [0., 0., 0., 4., 0., 0., 0.],\n",
       "       [0., 0., 0., 0., 5., 0., 0.],\n",
       "       [0., 0., 0., 0., 0., 6., 0.],\n",
       "       [0., 0., 0., 0., 0., 0., 7.]])"
      ]
     },
     "execution_count": 15,
     "metadata": {},
     "output_type": "execute_result"
    }
   ],
   "source": [
    "# with broadcasting\n",
    "m = np.eye(7)\n",
    "res = m * a\n",
    "res"
   ]
  },
  {
   "cell_type": "code",
   "execution_count": 17,
   "metadata": {
    "slideshow": {
     "slide_type": "slide"
    }
   },
   "outputs": [
    {
     "data": {
      "text/plain": [
       "array([[64,  7, 52, 14, 87, 93, 37],\n",
       "       [64, 16, 33, 16, 75, 36, 81],\n",
       "       [96, 66, 13, 83, 19, 43, 44],\n",
       "       [57, 59, 86, 95, 11, 51, 30],\n",
       "       [13, 51, 45, 54, 70, 91, 21]])"
      ]
     },
     "execution_count": 17,
     "metadata": {},
     "output_type": "execute_result"
    }
   ],
   "source": [
    "# 3. Создать случайную матрицу 5x7 целых чисел от 1 до 100 и поменять местами 3 и 5 колонки\n",
    "m_3 = np.random.randint(1, 100, (5, 7)); m_3"
   ]
  },
  {
   "cell_type": "code",
   "execution_count": 18,
   "metadata": {
    "slideshow": {
     "slide_type": "fragment"
    }
   },
   "outputs": [
    {
     "data": {
      "text/plain": [
       "array([[64,  7, 87, 14, 52, 93, 37],\n",
       "       [64, 16, 75, 16, 33, 36, 81],\n",
       "       [96, 66, 19, 83, 13, 43, 44],\n",
       "       [57, 59, 11, 95, 86, 51, 30],\n",
       "       [13, 51, 70, 54, 45, 91, 21]])"
      ]
     },
     "execution_count": 18,
     "metadata": {},
     "output_type": "execute_result"
    }
   ],
   "source": [
    "m_3[:, [4, 2]] = m_3[:, [2, 4]]\n",
    "m_3"
   ]
  },
  {
   "cell_type": "code",
   "execution_count": 20,
   "metadata": {
    "slideshow": {
     "slide_type": "slide"
    }
   },
   "outputs": [
    {
     "name": "stdout",
     "output_type": "stream",
     "text": [
      "[[78 61 66 47 18 10  2]\n",
      " [33 30 95 80 47 18 75]\n",
      " [ 8 89 94 36 32 97 52]\n",
      " [69 77 93 29 66  1 48]\n",
      " [64 96 26 80 71 58 71]]\n"
     ]
    },
    {
     "data": {
      "text/plain": [
       "array([[78, 61, 18, 47, 66, 10,  2],\n",
       "       [33, 30, 47, 80, 95, 18, 75],\n",
       "       [ 8, 89, 32, 36, 94, 97, 52],\n",
       "       [69, 77, 66, 29, 93,  1, 48],\n",
       "       [64, 96, 71, 80, 26, 58, 71]])"
      ]
     },
     "execution_count": 20,
     "metadata": {},
     "output_type": "execute_result"
    }
   ],
   "source": [
    "a = np.random.randint(1, 100, (5, 7))\n",
    "print(a)\n",
    "a=np.insert(a, 5, a[:, 2], axis=1)\n",
    "a=np.insert(a, 3, a[:, 4], axis=1)\n",
    "a=np.delete(a, 2, axis=1)\n",
    "a=np.delete(a, 4, axis=1)\n",
    "a"
   ]
  },
  {
   "cell_type": "code",
   "execution_count": null,
   "metadata": {},
   "outputs": [],
   "source": []
  }
 ],
 "metadata": {
  "celltoolbar": "Слайд-шоу",
  "kernelspec": {
   "display_name": "Python 3 (ipykernel)",
   "language": "python",
   "name": "python3"
  },
  "language_info": {
   "codemirror_mode": {
    "name": "ipython",
    "version": 3
   },
   "file_extension": ".py",
   "mimetype": "text/x-python",
   "name": "python",
   "nbconvert_exporter": "python",
   "pygments_lexer": "ipython3",
   "version": "3.11.6"
  }
 },
 "nbformat": 4,
 "nbformat_minor": 4
}
