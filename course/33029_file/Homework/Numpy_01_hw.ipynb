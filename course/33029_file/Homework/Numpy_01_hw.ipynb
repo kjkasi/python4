{
 "cells": [
  {
   "cell_type": "markdown",
   "metadata": {},
   "source": [
    "## Библиотека numpy - практика"
   ]
  },
  {
   "cell_type": "code",
   "execution_count": 1,
   "metadata": {},
   "outputs": [],
   "source": [
    "# загрузите необходимые библиотеки\n",
    "import numpy as np"
   ]
  },
  {
   "cell_type": "markdown",
   "metadata": {},
   "source": [
    "### Задачи\n",
    "\n",
    "Решите следующие задачи без использования циклов, с минимальным количеством строк."
   ]
  },
  {
   "cell_type": "markdown",
   "metadata": {},
   "source": [
    "1 . Решите следующие небольшие задачи"
   ]
  },
  {
   "cell_type": "code",
   "execution_count": null,
   "metadata": {},
   "outputs": [],
   "source": [
    "# 1.1 создайте numpy массив натуральных чисел от 0 до 47\n",
    "\n",
    "# 1.2 преобразуйте его в матрицу размером 12x4 \n",
    "\n",
    "# 1.3 преобразуйте эту матрицу в трехмерную матрицу размером 3x4x4\n",
    "\n"
   ]
  },
  {
   "cell_type": "markdown",
   "metadata": {},
   "source": [
    "2 . Американские коллеги прислали архив с наблюдениями температуры, но вот незадача: температура там указана в Фаренгейтах. <br>  Формула для перевода: $\\frac{C}{5}=\\frac{F - 32}{9}$"
   ]
  },
  {
   "cell_type": "code",
   "execution_count": null,
   "metadata": {},
   "outputs": [],
   "source": [
    "temps_F = np.array([0, 100, 99.1, 32, 44, 241, 10, 15, 20])\n",
    "# ваш код здесь\n"
   ]
  }
 ],
 "metadata": {
  "kernelspec": {
   "display_name": "Python 3 (ipykernel)",
   "language": "python",
   "name": "python3"
  },
  "language_info": {
   "codemirror_mode": {
    "name": "ipython",
    "version": 3
   },
   "file_extension": ".py",
   "mimetype": "text/x-python",
   "name": "python",
   "nbconvert_exporter": "python",
   "pygments_lexer": "ipython3",
   "version": "3.10.12"
  }
 },
 "nbformat": 4,
 "nbformat_minor": 2
}
