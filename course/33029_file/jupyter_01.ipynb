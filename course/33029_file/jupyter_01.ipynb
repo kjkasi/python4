{
 "cells": [
  {
   "cell_type": "markdown",
   "metadata": {},
   "source": [
    "# Курс \"Программирование на языке Python. Уровень 4. Анализ и визуализация данных на языке Python. Библиотеки numpy, pandas, matplotlib\"\n",
    "\n",
    "Если вы читаете эти строки, значит вы успешно установили и запустили Jupyter Notebook.\n",
    "\n",
    "##  Особенности работы в Jupyter Notebook\n",
    "\n",
    "1. Код пишется в \"клетках\" ```In []:```, результат исполнения - в \"клетках\" ```Out []:```.\n",
    "2. Stack Trace тоже отображается в клетках ```Out []:```.\n",
    "2. Цифра в квадратных скобках - порядковый номер исполнения данного фрагмента кода.\n",
    "2. Запуск кода: ```Shift - Enter``` - с переходом в следующую \"клетку\", ```Ctrl - Enter``` - без оного.\n",
    "3. Все переменные, объявленные в \"клетке\" становятся видимыми внутри всей тетрадки.\n",
    "4. Все переменные, объявленные в тетрадке, видимы только внутри нее и не влияют на другие открытые тетрадки.\n",
    "\n",
    "### Если \"Что-то пошло не так...\"\n",
    "\n",
    "1. ```Ctrl - C``` прервет выполнение кода исключением ```KeyboardInterrupt```\n",
    "1. Если это не помогает - надо перезапустить ядро (меню Kernel / Restart), и потом последовательно выполнить все предыдущие \"клетки\".\n",
    "2. Если и это не помогает - снимите процесс python.\n",
    "\n",
    "\n",
    "### Синтаксис Python в Jupyter Notebook\n",
    "\n",
    "1. Есть подсветка синтаксиса.\n",
    "2. Отступы проставляются автоматически, можно использовать tab.\n",
    "3. По нажатию tab - автозаполнение.\n",
    "4. Символ \"?\", указанный до или после переменной, открывает окно с информацией о ней (будь это просто переменная или функция).\n",
    "5. Закомментировать строку можно сочетанием клавиш ```Ctrl - /```.\n"
   ]
  },
  {
   "cell_type": "code",
   "execution_count": null,
   "metadata": {},
   "outputs": [],
   "source": [
    "b = [1, 2, 3]\n",
    "b"
   ]
  },
  {
   "cell_type": "code",
   "execution_count": 1,
   "metadata": {
    "scrolled": true
   },
   "outputs": [
    {
     "name": "stdout",
     "output_type": "stream",
     "text": [
      "python\n"
     ]
    },
    {
     "data": {
      "text/plain": [
       "'Hello'"
      ]
     },
     "execution_count": 1,
     "metadata": {},
     "output_type": "execute_result"
    }
   ],
   "source": [
    "s1 = 'python'\n",
    "s = 'Hello'\n",
    "print(s1)\n",
    "s"
   ]
  },
  {
   "cell_type": "code",
   "execution_count": null,
   "metadata": {
    "scrolled": true
   },
   "outputs": [],
   "source": [
    "print(s); b"
   ]
  },
  {
   "cell_type": "code",
   "execution_count": null,
   "metadata": {
    "scrolled": true
   },
   "outputs": [],
   "source": [
    "print(b)"
   ]
  },
  {
   "cell_type": "code",
   "execution_count": null,
   "metadata": {
    "scrolled": true
   },
   "outputs": [],
   "source": [
    "?b"
   ]
  },
  {
   "cell_type": "code",
   "execution_count": null,
   "metadata": {},
   "outputs": [],
   "source": [
    "'1' + str(1)"
   ]
  },
  {
   "cell_type": "code",
   "execution_count": null,
   "metadata": {
    "scrolled": true
   },
   "outputs": [],
   "source": [
    "# Подсказка типов (type hinting)\n",
    "def mul_numbers(a: float, b: float) -> float:\n",
    "    \"\"\" Функция умножает два числа \"\"\"\n",
    "    return a * b"
   ]
  },
  {
   "cell_type": "code",
   "execution_count": null,
   "metadata": {
    "scrolled": true
   },
   "outputs": [],
   "source": [
    "mul_numbers?"
   ]
  },
  {
   "cell_type": "code",
   "execution_count": null,
   "metadata": {
    "scrolled": true
   },
   "outputs": [],
   "source": [
    "mul_numbers(2, 9)"
   ]
  },
  {
   "cell_type": "code",
   "execution_count": null,
   "metadata": {},
   "outputs": [],
   "source": [
    "mul_numbers('2', '9')"
   ]
  },
  {
   "cell_type": "code",
   "execution_count": null,
   "metadata": {
    "scrolled": true
   },
   "outputs": [],
   "source": [
    "# два знака вопроса откроют окно с исходным кодом\n",
    "mul_numbers??"
   ]
  },
  {
   "cell_type": "code",
   "execution_count": null,
   "metadata": {},
   "outputs": [],
   "source": [
    "import math"
   ]
  },
  {
   "cell_type": "code",
   "execution_count": null,
   "metadata": {},
   "outputs": [],
   "source": [
    "math.sin??  "
   ]
  },
  {
   "cell_type": "code",
   "execution_count": null,
   "metadata": {
    "scrolled": true
   },
   "outputs": [],
   "source": [
    "# Можно посмотреть исходный код любой функции или класса с помощью <??>\n",
    "import random as rnd\n",
    "rnd.randrange??"
   ]
  },
  {
   "cell_type": "code",
   "execution_count": null,
   "metadata": {
    "scrolled": true
   },
   "outputs": [],
   "source": [
    "'hello'.upper()"
   ]
  },
  {
   "cell_type": "code",
   "execution_count": null,
   "metadata": {
    "scrolled": true
   },
   "outputs": [],
   "source": [
    "lsmagic"
   ]
  },
  {
   "cell_type": "markdown",
   "metadata": {},
   "source": [
    "### \"Волшебные команды\"\n",
    "\n",
    "#### Профайлинг и отладка\n",
    "\n",
    "- ```%time``` - показывает время выполнения строки кода\n",
    "- ```%%time``` - показывает время выполнения ячейки кода"
   ]
  },
  {
   "cell_type": "code",
   "execution_count": null,
   "metadata": {
    "scrolled": true
   },
   "outputs": [],
   "source": [
    "enum = enumerate('hello')\n",
    "next(enum)  # (0, 'h')\n",
    "next(enum)  # (1, 'e')\n",
    "for item in enum:\n",
    "    print(item)  # (2, 'l'), (3, 'l'),(4, 'o')\n",
    "next(enum, 'empty')"
   ]
  },
  {
   "cell_type": "code",
   "execution_count": null,
   "metadata": {
    "scrolled": true
   },
   "outputs": [],
   "source": [
    "a, b, c, d, e = 'hello'   # распаковка\n",
    "a"
   ]
  },
  {
   "cell_type": "code",
   "execution_count": null,
   "metadata": {},
   "outputs": [],
   "source": [
    "def func_two(x):\n",
    "    return x * 5"
   ]
  },
  {
   "cell_type": "code",
   "execution_count": null,
   "metadata": {},
   "outputs": [],
   "source": [
    "# Анонимные функции\n",
    "(lambda x: x * 5)(10)  "
   ]
  },
  {
   "cell_type": "code",
   "execution_count": null,
   "metadata": {},
   "outputs": [],
   "source": [
    "func = lambda x: x * 5\n",
    "func(50)"
   ]
  },
  {
   "cell_type": "code",
   "execution_count": null,
   "metadata": {},
   "outputs": [],
   "source": [
    "func"
   ]
  },
  {
   "cell_type": "code",
   "execution_count": null,
   "metadata": {
    "scrolled": true
   },
   "outputs": [],
   "source": [
    "# map как конвейер: применит lambda функцию к каждом элементу последовательности\n",
    "res1, res2 = map(lambda x: x * 5, '4 5'.split())  # ['4', '5']\n",
    "res1, res2  "
   ]
  },
  {
   "cell_type": "code",
   "execution_count": null,
   "metadata": {},
   "outputs": [],
   "source": [
    "# list comprehension(генераторы списков)\n",
    "lst1 = []\n",
    "for x in range(10):\n",
    "    lst1.append(x ** x)\n",
    "    \n",
    "# Syntax sugar\n",
    "# Что(выражение) Откуда При каких условиях\n",
    "lst2 = [x ** x for x in range(10)]\n",
    "lst1 == lst2"
   ]
  },
  {
   "cell_type": "code",
   "execution_count": null,
   "metadata": {
    "scrolled": true
   },
   "outputs": [],
   "source": [
    "def sum_exps(number):\n",
    "    return sum(x ** x for x in range(number))\n",
    "\n",
    "def sum_exps_naive(number):\n",
    "    summ = 0\n",
    "    for x in range(number):\n",
    "        poww = x\n",
    "        for y in range(x):\n",
    "            poww *= x\n",
    "        summ += poww\n",
    "    return summ\n"
   ]
  },
  {
   "cell_type": "code",
   "execution_count": null,
   "metadata": {},
   "outputs": [],
   "source": [
    "# Показывает все переменные, которые созданы на данных момент в этой \"тетрадке\"\n",
    "%who  "
   ]
  },
  {
   "cell_type": "code",
   "execution_count": null,
   "metadata": {},
   "outputs": [],
   "source": [
    "%whos"
   ]
  },
  {
   "cell_type": "code",
   "execution_count": null,
   "metadata": {
    "scrolled": true
   },
   "outputs": [],
   "source": [
    "%time print(\"Hello World\")  # Здесь только одна строка\n",
    "a = sum_exps_naive( 1000 )\n",
    "b = sum_exps( 1000 )"
   ]
  },
  {
   "cell_type": "code",
   "execution_count": null,
   "metadata": {
    "scrolled": true
   },
   "outputs": [],
   "source": [
    "%%time  \n",
    "print(\"Hello World\")\n",
    "a = sum_exps_naive( 1000 )\n",
    "b = sum_exps( 1000 )"
   ]
  },
  {
   "cell_type": "code",
   "execution_count": null,
   "metadata": {
    "scrolled": true
   },
   "outputs": [],
   "source": [
    "%time a = sum_exps_naive(1000)\n",
    "%time b = sum_exps(1000)"
   ]
  },
  {
   "cell_type": "markdown",
   "metadata": {},
   "source": [
    "- ```%timeit``` - выполнить код несколько раз и показать среднее время выполнения кода. Запуск с ```%%``` приведет к \"прокручиванию\" кода всей клетки.\n",
    "\n",
    "Можно задать количество итерациий, запустив эту команду с параметром -nN, где N - количество циклов."
   ]
  },
  {
   "cell_type": "code",
   "execution_count": null,
   "metadata": {
    "scrolled": true
   },
   "outputs": [],
   "source": [
    "%timeit sum_exps(1000)"
   ]
  },
  {
   "cell_type": "code",
   "execution_count": null,
   "metadata": {
    "scrolled": true
   },
   "outputs": [],
   "source": [
    "%timeit -n2 -r5 sum_exps_naive( 1000 )"
   ]
  },
  {
   "cell_type": "markdown",
   "metadata": {},
   "source": [
    "- ```%prun``` - построчный профайлер"
   ]
  },
  {
   "cell_type": "code",
   "execution_count": null,
   "metadata": {
    "scrolled": true
   },
   "outputs": [],
   "source": [
    "%prun sum_exps(1000)"
   ]
  },
  {
   "cell_type": "code",
   "execution_count": null,
   "metadata": {
    "scrolled": true
   },
   "outputs": [],
   "source": [
    "%%writefile file.py\n",
    "line = \"hello Jupyter\"\n",
    "print(line[::-1])"
   ]
  },
  {
   "cell_type": "code",
   "execution_count": null,
   "metadata": {},
   "outputs": [],
   "source": [
    "'hello'[::-2]  # берет элементы с индексами: -1, -3, -5"
   ]
  },
  {
   "cell_type": "code",
   "execution_count": null,
   "metadata": {
    "scrolled": true
   },
   "outputs": [],
   "source": [
    "# %load file.py\n",
    "line = \"hello Jupyter\"\n",
    "print(line[::-1])\n"
   ]
  },
  {
   "cell_type": "code",
   "execution_count": null,
   "metadata": {
    "scrolled": true
   },
   "outputs": [],
   "source": [
    "%run file.py"
   ]
  },
  {
   "cell_type": "code",
   "execution_count": null,
   "metadata": {
    "scrolled": true
   },
   "outputs": [],
   "source": [
    "# Две ссылки на один и тот же объект\n",
    "s = 'hello'\n",
    "s1 = s[:]\n",
    "id(s) == id(s1)  # s is s1"
   ]
  },
  {
   "cell_type": "code",
   "execution_count": null,
   "metadata": {
    "scrolled": true
   },
   "outputs": [],
   "source": [
    "lst1 = [3, 8, 7]\n",
    "lst2 = lst1[:]\n",
    "lst1 is lst2  # Вспомнить всё и проверить!\n",
    "# True(3) vs False(4)"
   ]
  },
  {
   "cell_type": "code",
   "execution_count": null,
   "metadata": {
    "scrolled": true
   },
   "outputs": [],
   "source": [
    "# Две ссылки на один и тот же объект\n",
    "tup1 = 45, 12\n",
    "tup2 = tup1[:]\n",
    "id(tup1) == id(tup2)"
   ]
  },
  {
   "cell_type": "code",
   "execution_count": null,
   "metadata": {
    "scrolled": true
   },
   "outputs": [],
   "source": [
    "tup1 + tup2  "
   ]
  },
  {
   "cell_type": "code",
   "execution_count": null,
   "metadata": {},
   "outputs": [],
   "source": [
    "[6, 9, 3] + (4, 9, 2) # Error"
   ]
  },
  {
   "cell_type": "code",
   "execution_count": null,
   "metadata": {},
   "outputs": [],
   "source": [
    "'hello'[3:100]"
   ]
  },
  {
   "cell_type": "code",
   "execution_count": null,
   "metadata": {
    "scrolled": true
   },
   "outputs": [],
   "source": [
    "a = ([34, 45], [56, 12])\n",
    "a"
   ]
  },
  {
   "cell_type": "code",
   "execution_count": null,
   "metadata": {
    "scrolled": true
   },
   "outputs": [],
   "source": [
    "a[1].append(100)\n",
    "a[0].clear()\n",
    "a  "
   ]
  },
  {
   "cell_type": "code",
   "execution_count": null,
   "metadata": {},
   "outputs": [],
   "source": [
    "a[1] = 1  # Error"
   ]
  },
  {
   "cell_type": "markdown",
   "metadata": {},
   "source": [
    "---"
   ]
  },
  {
   "cell_type": "code",
   "execution_count": null,
   "metadata": {
    "scrolled": true
   },
   "outputs": [],
   "source": [
    "%save result.py 60-62"
   ]
  },
  {
   "cell_type": "code",
   "execution_count": null,
   "metadata": {
    "scrolled": true
   },
   "outputs": [],
   "source": [
    "!type file.py"
   ]
  },
  {
   "cell_type": "code",
   "execution_count": null,
   "metadata": {
    "scrolled": true
   },
   "outputs": [],
   "source": [
    "!python file.py > out1.txt"
   ]
  },
  {
   "cell_type": "code",
   "execution_count": null,
   "metadata": {
    "scrolled": true
   },
   "outputs": [],
   "source": [
    "# %load out1.txt\n",
    "retypuJ olleh\n"
   ]
  },
  {
   "cell_type": "code",
   "execution_count": null,
   "metadata": {
    "scrolled": true
   },
   "outputs": [],
   "source": [
    "line = \"hello Jupyter\"\n",
    "print(line[::-1])\n",
    "print(line.capitalize())"
   ]
  },
  {
   "cell_type": "code",
   "execution_count": null,
   "metadata": {
    "scrolled": true
   },
   "outputs": [],
   "source": [
    "%save file1.py 68"
   ]
  },
  {
   "cell_type": "code",
   "execution_count": 2,
   "metadata": {},
   "outputs": [
    {
     "data": {
      "text/html": [
       "<img src=\"https://python.org/images/python-logo.gif\"/>"
      ],
      "text/plain": [
       "<IPython.core.display.Image object>"
      ]
     },
     "execution_count": 2,
     "metadata": {},
     "output_type": "execute_result"
    }
   ],
   "source": [
    "from IPython.display import display, Image, HTML, Math\n",
    "Image(url='https://python.org/images/python-logo.gif')"
   ]
  },
  {
   "cell_type": "markdown",
   "metadata": {},
   "source": [
    "Для запуска ячейки нужно установить две библиотеки:  \n",
    "```\n",
    "conda install scipy\n",
    "conda install ipywidgets\n",
    "jupyter nbextension enable --py widgetsnbextension\n",
    "```  \n",
    "и полностью перезапустить `Jupyter Server`"
   ]
  },
  {
   "cell_type": "code",
   "execution_count": 4,
   "metadata": {},
   "outputs": [
    {
     "data": {
      "application/vnd.jupyter.widget-view+json": {
       "model_id": "42174601657f4bb2ac851170dffaaa5f",
       "version_major": 2,
       "version_minor": 0
      },
      "text/plain": [
       "interactive(children=(FloatSlider(value=1.0, description='mu', max=20.0, min=1.0, step=1.0), Output()), _dom_c…"
      ]
     },
     "metadata": {},
     "output_type": "display_data"
    }
   ],
   "source": [
    "import matplotlib.pyplot as plt\n",
    "import numpy as np\n",
    "from scipy import stats\n",
    "\n",
    "def f(mu):\n",
    "    X = stats.norm(loc=mu, scale=np.sqrt(mu))\n",
    "    N = stats.poisson(mu)\n",
    "    x = np.linspace(0, X.ppf(0.999))\n",
    "    n = np.arange(0, x[-1])\n",
    "\n",
    "    fig, ax = plt.subplots()\n",
    "    ax.plot(x, X.pdf(x), color='black', lw=2, label=f\"Normal($\\mu={mu}, \\sigma^2={mu})$\")\n",
    "    ax.bar(n, N.pmf(n), align='edge', label=r\"Poisson($\\lambda=%2d$)\" % mu)\n",
    "    ax.set_ylim(0, X.pdf(x).max() * 1.25)\n",
    "    ax.legend(loc=2, ncol=2)\n",
    "    plt.close(fig)\n",
    "    return fig\n",
    "\n",
    "    \n",
    "from ipywidgets import interact\n",
    "import ipywidgets as widgets\n",
    "\n",
    "interact(f, mu=widgets.FloatSlider(min=1.0, max=20.0, step=1.0));"
   ]
  },
  {
   "cell_type": "markdown",
   "metadata": {},
   "source": [
    "### Встроенный debugger\n",
    "\n",
    "- ```%pdb``` - запускает дебаггер сразу после того, как появилось исключение\n",
    "- появляется приглашение ```ipdb>```, в котором можно вводить команды\n",
    "- чтобы посмотреть значение той или иной переменной, надо просто набрать ее имя\n",
    "- чтобы изменить значение - достаточно использовать операцию присваивания\n",
    "- чтобы выйти - нужно набрать команду ```exit```\n",
    "- чтобы посмотреть все команды дебаггера нужно набрать команду ```help```"
   ]
  },
  {
   "cell_type": "code",
   "execution_count": null,
   "metadata": {
    "scrolled": true
   },
   "outputs": [],
   "source": [
    "def a_divider(dividend, divisors):\n",
    "    l = []\n",
    "    for divisor in divisors:\n",
    "        l.append(dividend // divisor)\n",
    "    return l    "
   ]
  },
  {
   "cell_type": "code",
   "execution_count": null,
   "metadata": {
    "scrolled": true
   },
   "outputs": [],
   "source": [
    "print(a_divider(500, [1,2,3,4,5]))"
   ]
  },
  {
   "cell_type": "code",
   "execution_count": null,
   "metadata": {},
   "outputs": [],
   "source": [
    "%pdb \n",
    "print(a_divider(500, [1,2,3, 0 ,4,5]))"
   ]
  },
  {
   "cell_type": "markdown",
   "metadata": {},
   "source": [
    "### Другие полезные \"волшебные\" функции\n",
    "\n",
    "Справка по всем \"магическим\" функциям - ```%magic```"
   ]
  },
  {
   "cell_type": "code",
   "execution_count": null,
   "metadata": {
    "scrolled": true
   },
   "outputs": [],
   "source": [
    "# список объявленных переменных\n",
    "%who"
   ]
  },
  {
   "cell_type": "code",
   "execution_count": null,
   "metadata": {},
   "outputs": [],
   "source": [
    "# показать историю команд\n",
    "%hist"
   ]
  },
  {
   "cell_type": "code",
   "execution_count": null,
   "metadata": {},
   "outputs": [],
   "source": [
    "# текущий каталог можно узнать через команду %pwd\n",
    "x = %pwd\n",
    "x"
   ]
  },
  {
   "cell_type": "code",
   "execution_count": null,
   "metadata": {
    "scrolled": true
   },
   "outputs": [],
   "source": [
    "# удалить переменную и попытаться очистить все ссылки на объект во внутреннем пространстве имен Jupyter Notebook\n",
    "%xdel f"
   ]
  },
  {
   "cell_type": "code",
   "execution_count": null,
   "metadata": {
    "scrolled": true
   },
   "outputs": [],
   "source": [
    "%who"
   ]
  },
  {
   "cell_type": "code",
   "execution_count": null,
   "metadata": {
    "scrolled": true
   },
   "outputs": [],
   "source": [
    "# удалить все переменные\n",
    "%reset "
   ]
  },
  {
   "cell_type": "code",
   "execution_count": null,
   "metadata": {
    "scrolled": true
   },
   "outputs": [],
   "source": [
    "whos"
   ]
  },
  {
   "cell_type": "code",
   "execution_count": null,
   "metadata": {
    "scrolled": true
   },
   "outputs": [],
   "source": [
    "a = 4; a"
   ]
  },
  {
   "cell_type": "code",
   "execution_count": null,
   "metadata": {
    "scrolled": true
   },
   "outputs": [],
   "source": [
    "b = 'hello'; b"
   ]
  },
  {
   "cell_type": "code",
   "execution_count": null,
   "metadata": {
    "scrolled": true
   },
   "outputs": [],
   "source": [
    "c = True; c"
   ]
  },
  {
   "cell_type": "code",
   "execution_count": null,
   "metadata": {
    "scrolled": true
   },
   "outputs": [],
   "source": [
    "__ # _ - последний вывод, __ - предпоследний, ___ - предпредпоследний"
   ]
  },
  {
   "cell_type": "code",
   "execution_count": null,
   "metadata": {
    "scrolled": true
   },
   "outputs": [],
   "source": [
    "1 == True  # Out: True\n",
    "0 == False # Out: True\n",
    "True + True + True  # Out: 3\n",
    "7.6 - True # 6.6"
   ]
  },
  {
   "cell_type": "code",
   "execution_count": null,
   "metadata": {},
   "outputs": [],
   "source": [
    "lst = [3, 9, 1, 8.1, True, 'hello']\n",
    "lst.count(True)  # Out: 2"
   ]
  },
  {
   "cell_type": "markdown",
   "metadata": {},
   "source": [
    "### Практика. Задание 1"
   ]
  },
  {
   "cell_type": "code",
   "execution_count": null,
   "metadata": {
    "scrolled": true
   },
   "outputs": [],
   "source": [
    "\"\"\"\n",
    "Введено натуральное число.\n",
    "Сложить разряды числа до цифры.\n",
    "\n",
    "\n",
    "Пример 1:\n",
    "In:\n",
    "    number = 1237\n",
    "Out:\n",
    "    result: 4 (1+2+3+7=13 -> 1+3=4)\n",
    "\n",
    "Пример 2:\n",
    "In:\n",
    "    number = 16529\n",
    "Out:\n",
    "    result: 5 (1+6+5+2+9=23 -> 2+3=5)\n",
    "\"\"\"\n"
   ]
  },
  {
   "cell_type": "markdown",
   "metadata": {},
   "source": [
    "#### Решение задачи"
   ]
  },
  {
   "cell_type": "code",
   "execution_count": null,
   "metadata": {},
   "outputs": [],
   "source": [
    "# Ваш код"
   ]
  },
  {
   "cell_type": "markdown",
   "metadata": {},
   "source": [
    "### Подключение внешних модулей\n",
    "\n",
    "1. Если ```import module``` не может найти нужный модуль, используйте ```conda install ...```__ВНЕ ТЕТРАДИ__, то есть в командной строке.\n",
    "2. Запуск ```!conda install``` установит запрашиваемый модуль только для текущего сеанса.\n",
    "3. Если вы разрабатываете свой модуль во внешнем редакторе, а отлаживаете его в Jupyter, включите автообновление модуля по мере его сохранения:\n",
    "```python\n",
    "%load_ext autoreload\n",
    "%autoreload 2\n",
    "```"
   ]
  },
  {
   "cell_type": "code",
   "execution_count": null,
   "metadata": {
    "scrolled": true
   },
   "outputs": [],
   "source": [
    "%load_ext autoreload\n",
    "%autoreload 2"
   ]
  },
  {
   "cell_type": "code",
   "execution_count": null,
   "metadata": {
    "scrolled": true
   },
   "outputs": [],
   "source": [
    "%autoreload?"
   ]
  },
  {
   "cell_type": "code",
   "execution_count": null,
   "metadata": {
    "scrolled": true
   },
   "outputs": [],
   "source": [
    "%reset"
   ]
  },
  {
   "cell_type": "code",
   "execution_count": null,
   "metadata": {
    "scrolled": true
   },
   "outputs": [],
   "source": [
    "who"
   ]
  },
  {
   "cell_type": "code",
   "execution_count": null,
   "metadata": {},
   "outputs": [],
   "source": [
    "import sys"
   ]
  },
  {
   "cell_type": "code",
   "execution_count": null,
   "metadata": {
    "scrolled": true
   },
   "outputs": [],
   "source": [
    "sys.path.append(\"c:\\\\Courses\")  # Добавляем нужную папку в системный список папок"
   ]
  },
  {
   "cell_type": "code",
   "execution_count": null,
   "metadata": {},
   "outputs": [],
   "source": [
    "sys.path"
   ]
  },
  {
   "cell_type": "code",
   "execution_count": null,
   "metadata": {},
   "outputs": [],
   "source": [
    "%%writefile c:\\\\Courses\\\\my.py\n",
    "\n",
    "def ceil(x, y):\n",
    "    return (x + y - 1) // y"
   ]
  },
  {
   "cell_type": "code",
   "execution_count": null,
   "metadata": {},
   "outputs": [],
   "source": [
    "import my"
   ]
  },
  {
   "cell_type": "code",
   "execution_count": null,
   "metadata": {
    "scrolled": true
   },
   "outputs": [],
   "source": [
    "my.ceil(12, 2)"
   ]
  },
  {
   "cell_type": "markdown",
   "metadata": {},
   "source": [
    "## Язык Markdown\n",
    "\n",
    "Чтобы редактировать содержимое Markdown-клетки, дважды кликните по ней."
   ]
  },
  {
   "cell_type": "markdown",
   "metadata": {},
   "source": [
    "# Заголовок 1\n",
    "\n",
    "## Заголовок 2\n",
    "\n",
    "### _Заголовок 3_\n",
    "\n",
    "Quick brown fox __jumped__ _over_ lazy dog. Quick brown fox jumped over lazy dog.Quick brown fox jumped over lazy dog.Quick brown fox jumped over lazy dog.Quick brown fox jumped over lazy dog. Quick brown fox jumped over lazy dog. Quick brown fox jumped over lazy dog.  \n",
    "Quick brown fox jumped over lazy dog.\n",
    "\n",
    "**Quick** brown fox jumped over lazy https://www.dogs.com/. Quick brown fox jumped over lazy dog. Quick brown fox jumped over lazy dog. Quick brown fox jumped over lazy dog.\n",
    "\n",
    "1. Quick brown fox jumped over lazy dog. Quick brown fox jumped over lazy dog. Quick brown fox jumped over lazy dog.\n",
    "2. Quick brown fox jumped over lazy dog. Quick brown fox jumped over lazy dog.\n",
    "3. Quick brown fox jumped over lazy dog. Quick brown fox jumped over lazy dog.\n",
    "\n",
    "$\\begin{cases}\n",
    "2 + t^1*2 = 0 + t_2*(-1) \\\\\n",
    "3 + t_1*1 = 1 + t_2*1\n",
    "\\end{cases}\n",
    "$\n",
    "\n",
    "- first\n",
    "- second\n",
    "- third\n"
   ]
  },
  {
   "cell_type": "markdown",
   "metadata": {},
   "source": []
  }
 ],
 "metadata": {
  "kernelspec": {
   "display_name": "Python 3 (ipykernel)",
   "language": "python",
   "name": "python3"
  },
  "language_info": {
   "codemirror_mode": {
    "name": "ipython",
    "version": 3
   },
   "file_extension": ".py",
   "mimetype": "text/x-python",
   "name": "python",
   "nbconvert_exporter": "python",
   "pygments_lexer": "ipython3",
   "version": "3.11.6"
  }
 },
 "nbformat": 4,
 "nbformat_minor": 4
}
